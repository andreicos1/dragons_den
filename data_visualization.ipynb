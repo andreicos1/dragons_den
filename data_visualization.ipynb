{
 "cells": [
  {
   "cell_type": "code",
   "execution_count": 1,
   "metadata": {},
   "outputs": [
    {
     "data": {
      "text/html": [
       "<script>\n",
       "code_show=true; \n",
       "function code_toggle() {\n",
       " if (code_show){\n",
       " $('div.input').hide();\n",
       " } else {\n",
       " $('div.input').show();\n",
       " }\n",
       " code_show = !code_show\n",
       "} \n",
       "$( document ).ready(code_toggle);\n",
       "</script>\n",
       "The raw code for this IPython notebook is by default hidden for easier reading.\n",
       "To toggle on/off the raw code, click <a href=\"javascript:code_toggle()\">here</a>."
      ],
      "text/plain": [
       "<IPython.core.display.HTML object>"
      ]
     },
     "execution_count": 1,
     "metadata": {},
     "output_type": "execute_result"
    }
   ],
   "source": [
    "from IPython.display import HTML\n",
    "from IPython.display import display\n",
    "#Allows the reader to hide/show the code cells. From https://pastebin.com/H77xP2vN\n",
    "HTML('''<script>\n",
    "code_show=true; \n",
    "function code_toggle() {\n",
    " if (code_show){\n",
    " $('div.input').hide();\n",
    " } else {\n",
    " $('div.input').show();\n",
    " }\n",
    " code_show = !code_show\n",
    "} \n",
    "$( document ).ready(code_toggle);\n",
    "</script>\n",
    "The raw code for this IPython notebook is by default hidden for easier reading.\n",
    "To toggle on/off the raw code, click <a href=\"javascript:code_toggle()\">here</a>.''')"
   ]
  },
  {
   "cell_type": "markdown",
   "metadata": {},
   "source": [
    "In this project the following questions are answered:\n",
    "<ul>\n",
    "    <li> How many companies are still in business ?</li>\n",
    "    <li> How many investemnts went through ?</li>\n",
    "    <li> What is the average amount of money invested ? How about the average % of equity shared ? </li>\n",
    "    <li> Who are the most active investors ?</li>\n",
    "    </ul>\n",
    "\n",
    "Further investigation could look into:\n",
    "<ul>\n",
    "    <li> Which dragons have made the most investments per episode ? </li>\n",
    "    <li> How well have the companies done after appearing on the show ?</li>\n",
    "    <li> What company type is most commonly appearing on the show/ most likely to earn an investment ?</li>\n"
   ]
  },
  {
   "cell_type": "code",
   "execution_count": 2,
   "metadata": {},
   "outputs": [],
   "source": [
    "import bs4\n",
    "from urllib.request import urlopen as uReq\n",
    "from bs4 import BeautifulSoup as soup\n",
    "import numpy as np\n",
    "import pandas as pd\n",
    "import re\n",
    "from pandas import Series, DataFrame\n",
    "import matplotlib\n",
    "import matplotlib.pyplot as plt\n",
    "import matplotlib.ticker as ticker\n",
    "from matplotlib.pyplot import figure\n",
    "import seaborn as sns\n",
    "%matplotlib inline\n"
   ]
  },
  {
   "cell_type": "code",
   "execution_count": 3,
   "metadata": {},
   "outputs": [],
   "source": [
    "url = 'https://www.tigermobiles.com/dragons-den/'"
   ]
  },
  {
   "cell_type": "code",
   "execution_count": 4,
   "metadata": {},
   "outputs": [],
   "source": [
    "uClient = uReq(url) #openning up a connection, grabbing the page"
   ]
  },
  {
   "cell_type": "code",
   "execution_count": 5,
   "metadata": {},
   "outputs": [],
   "source": [
    "page_html = uClient.read() #offloads the content into a variable\n",
    "uClient.close() #close the file"
   ]
  },
  {
   "cell_type": "code",
   "execution_count": 6,
   "metadata": {},
   "outputs": [],
   "source": [
    "page_soup = soup(page_html, 'lxml') # #the text needs to be parsed (as we have the raw html at the moment)"
   ]
  },
  {
   "cell_type": "code",
   "execution_count": 7,
   "metadata": {},
   "outputs": [],
   "source": [
    "columns = page_soup.find('div', {'class': 'cols all-items'})#the part of the webpage containing a column of all companies"
   ]
  },
  {
   "cell_type": "code",
   "execution_count": 8,
   "metadata": {},
   "outputs": [],
   "source": [
    "companies_info = columns.find_all('div',{'class':'dd-item-desc'})#a list of info for all individual companies"
   ]
  },
  {
   "cell_type": "code",
   "execution_count": 9,
   "metadata": {},
   "outputs": [],
   "source": [
    "#Required data is:\n",
    "#company name: h2\n",
    "#investor name : div class 'dd-profile'\n",
    "#series\n",
    "#ivestment amount\n",
    "#equity bought\n",
    "#did the investment go through ?\n",
    "#is the company still in bussiness ?\n",
    "\n",
    "#In the future, could get the other data such as incorporation date as well"
   ]
  },
  {
   "cell_type": "code",
   "execution_count": 10,
   "metadata": {},
   "outputs": [],
   "source": [
    "company_names = []\n",
    "investors_list = []\n",
    "show_series = []\n",
    "investment_amount = []\n",
    "equity_shared = []\n",
    "investment_went_trhough = []\n",
    "company_still_in_business = []\n",
    "\n",
    "\n",
    "for company in companies_info:\n",
    "    \n",
    "    company_name = company.find('h2').text\n",
    "    company_names.append(company_name)\n",
    "    \n",
    "    \n",
    "    investors = company.find_all('div',{'class': 'dd-profile'})# there can be more than one investor\n",
    "    # the name is in the form of 'FistLast', so to make it look better it's changed to 'First Last'\n",
    "    investors_names =[]\n",
    "    for investor in investors:\n",
    "        investor = investor.text\n",
    "        first_and_last = re.sub( r\"([A-Z])\", r\" \\1\", investor).split()#split on capital letter\n",
    "        investor_name = ' '.join(first_and_last)#join the names back into a string with a space between them\n",
    "        investors_names.append(investor_name)\n",
    "    investors_list.append(investors_names)\n",
    "    \n",
    "    \n",
    "    # the last three h4 elements are the show's Series number, the investment amount and the equity% purchased\n",
    "    details = company.find_all('span')[1:]#the first one is the names of the people appearing on the show\n",
    "    series = details[0].text\n",
    "    show_series.append(series)\n",
    "    investment = details[1].text\n",
    "    investment_amount.append(investment)\n",
    "    equity = details[2].text\n",
    "    equity_shared.append(equity)\n",
    "    \n",
    "    \n",
    "    # the first two 'one-half' class divs are info on what happened after the show\n",
    "    follow_up = company.find_all('div', {'class':'one-half'})[:2]\n",
    "\n",
    "    #the answer to the question is in the form of an image with a specific div.\n",
    "    icon_yes_0 = follow_up[0].find('div',{'class':'icon-yes'})# if the icon is no, the outpout is None\n",
    "\n",
    "    if icon_yes_0:\n",
    "        went_through ='Yes'\n",
    "    else:\n",
    "        went_through = 'No' \n",
    "    investment_went_trhough.append(went_through)\n",
    "\n",
    "    icon_yes_1 = follow_up[1].find('div',{'class':'icon-yes'})\n",
    "\n",
    "    if icon_yes_1:\n",
    "        still_in_business ='Yes'\n",
    "    else:\n",
    "        still_in_business = 'No' \n",
    "    company_still_in_business.append(still_in_business)"
   ]
  },
  {
   "cell_type": "code",
   "execution_count": 11,
   "metadata": {},
   "outputs": [],
   "source": [
    "df = DataFrame(list(zip(company_names,investors_list, show_series, investment_amount, \n",
    "                        equity_shared, investment_went_trhough, company_still_in_business)),\n",
    "              columns =['company_name', 'investors_names', 'series','investment','equity','went_through','still_in_business'])"
   ]
  },
  {
   "cell_type": "code",
   "execution_count": 12,
   "metadata": {},
   "outputs": [
    {
     "data": {
      "text/html": [
       "<div>\n",
       "<style scoped>\n",
       "    .dataframe tbody tr th:only-of-type {\n",
       "        vertical-align: middle;\n",
       "    }\n",
       "\n",
       "    .dataframe tbody tr th {\n",
       "        vertical-align: top;\n",
       "    }\n",
       "\n",
       "    .dataframe thead th {\n",
       "        text-align: right;\n",
       "    }\n",
       "</style>\n",
       "<table border=\"1\" class=\"dataframe\">\n",
       "  <thead>\n",
       "    <tr style=\"text-align: right;\">\n",
       "      <th></th>\n",
       "      <th>company_name</th>\n",
       "      <th>investors_names</th>\n",
       "      <th>series</th>\n",
       "      <th>investment</th>\n",
       "      <th>equity</th>\n",
       "      <th>went_through</th>\n",
       "      <th>still_in_business</th>\n",
       "    </tr>\n",
       "  </thead>\n",
       "  <tbody>\n",
       "    <tr>\n",
       "      <th>0</th>\n",
       "      <td>Oatein Ltd</td>\n",
       "      <td>[Peter Jones]</td>\n",
       "      <td>16</td>\n",
       "      <td>£50,000</td>\n",
       "      <td>25%</td>\n",
       "      <td>No</td>\n",
       "      <td>Yes</td>\n",
       "    </tr>\n",
       "    <tr>\n",
       "      <th>1</th>\n",
       "      <td>Buddies Toothpaste</td>\n",
       "      <td>[]</td>\n",
       "      <td>16</td>\n",
       "      <td>£60,000</td>\n",
       "      <td>44%</td>\n",
       "      <td>No</td>\n",
       "      <td>Yes</td>\n",
       "    </tr>\n",
       "    <tr>\n",
       "      <th>2</th>\n",
       "      <td>Didsbury Gin</td>\n",
       "      <td>[Jenny Campbell]</td>\n",
       "      <td>16</td>\n",
       "      <td>£75,000</td>\n",
       "      <td>33%</td>\n",
       "      <td>Yes</td>\n",
       "      <td>Yes</td>\n",
       "    </tr>\n",
       "    <tr>\n",
       "      <th>3</th>\n",
       "      <td>Van De Sant Innovations</td>\n",
       "      <td>[Deborah Meaden]</td>\n",
       "      <td>16</td>\n",
       "      <td>£70,000</td>\n",
       "      <td>15%</td>\n",
       "      <td>No</td>\n",
       "      <td>Yes</td>\n",
       "    </tr>\n",
       "    <tr>\n",
       "      <th>4</th>\n",
       "      <td>OHMME</td>\n",
       "      <td>[Peter Jones]</td>\n",
       "      <td>16</td>\n",
       "      <td>£80,000</td>\n",
       "      <td>20%</td>\n",
       "      <td>No</td>\n",
       "      <td>Yes</td>\n",
       "    </tr>\n",
       "  </tbody>\n",
       "</table>\n",
       "</div>"
      ],
      "text/plain": [
       "              company_name   investors_names series investment equity  \\\n",
       "0               Oatein Ltd     [Peter Jones]     16    £50,000    25%   \n",
       "1       Buddies Toothpaste                []     16    £60,000    44%   \n",
       "2             Didsbury Gin  [Jenny Campbell]     16    £75,000    33%   \n",
       "3  Van De Sant Innovations  [Deborah Meaden]     16    £70,000    15%   \n",
       "4                    OHMME     [Peter Jones]     16    £80,000    20%   \n",
       "\n",
       "  went_through still_in_business  \n",
       "0           No               Yes  \n",
       "1           No               Yes  \n",
       "2          Yes               Yes  \n",
       "3           No               Yes  \n",
       "4           No               Yes  "
      ]
     },
     "execution_count": 12,
     "metadata": {},
     "output_type": "execute_result"
    }
   ],
   "source": [
    "df.head()"
   ]
  },
  {
   "cell_type": "markdown",
   "metadata": {},
   "source": [
    "investment and equity columns need to be changed to a number type"
   ]
  },
  {
   "cell_type": "code",
   "execution_count": 13,
   "metadata": {},
   "outputs": [],
   "source": [
    "df.investment = df.investment.str.replace('£','').str.replace(',','') #get rid of sign and comma\n",
    "df.investment = df.investment.astype(int) #change to integer type"
   ]
  },
  {
   "cell_type": "code",
   "execution_count": 14,
   "metadata": {},
   "outputs": [],
   "source": [
    "df.equity = df.equity.map(lambda a: float(a[:-1])) #remove the '%' at the end of the string and change to float type"
   ]
  },
  {
   "cell_type": "code",
   "execution_count": 15,
   "metadata": {},
   "outputs": [
    {
     "name": "stderr",
     "output_type": "stream",
     "text": [
      "C:\\Users\\TotEu\\anaconda3\\lib\\site-packages\\ipykernel_launcher.py:5: SettingWithCopyWarning: \n",
      "A value is trying to be set on a copy of a slice from a DataFrame\n",
      "\n",
      "See the caveats in the documentation: https://pandas.pydata.org/pandas-docs/stable/user_guide/indexing.html#returning-a-view-versus-a-copy\n",
      "  \"\"\"\n"
     ]
    }
   ],
   "source": [
    "#in order to easily obtain a histogram which shows the series numbers in order, the type is converted from str to int\n",
    "\n",
    "#there is an empty string value in the series list. As the rows next and before it are season 11, it'll be assumed that the '' \n",
    "#corresponds to 11\n",
    "df.series[df.series.values == ''] = 11  "
   ]
  },
  {
   "cell_type": "code",
   "execution_count": 16,
   "metadata": {},
   "outputs": [
    {
     "data": {
      "text/html": [
       "<div>\n",
       "<style scoped>\n",
       "    .dataframe tbody tr th:only-of-type {\n",
       "        vertical-align: middle;\n",
       "    }\n",
       "\n",
       "    .dataframe tbody tr th {\n",
       "        vertical-align: top;\n",
       "    }\n",
       "\n",
       "    .dataframe thead th {\n",
       "        text-align: right;\n",
       "    }\n",
       "</style>\n",
       "<table border=\"1\" class=\"dataframe\">\n",
       "  <thead>\n",
       "    <tr style=\"text-align: right;\">\n",
       "      <th></th>\n",
       "      <th>company_name</th>\n",
       "      <th>investors_names</th>\n",
       "      <th>series</th>\n",
       "      <th>investment</th>\n",
       "      <th>equity</th>\n",
       "      <th>went_through</th>\n",
       "      <th>still_in_business</th>\n",
       "    </tr>\n",
       "  </thead>\n",
       "  <tbody>\n",
       "    <tr>\n",
       "      <th>0</th>\n",
       "      <td>Oatein Ltd</td>\n",
       "      <td>[Peter Jones]</td>\n",
       "      <td>16</td>\n",
       "      <td>50000</td>\n",
       "      <td>25.0</td>\n",
       "      <td>No</td>\n",
       "      <td>Yes</td>\n",
       "    </tr>\n",
       "    <tr>\n",
       "      <th>1</th>\n",
       "      <td>Buddies Toothpaste</td>\n",
       "      <td>[]</td>\n",
       "      <td>16</td>\n",
       "      <td>60000</td>\n",
       "      <td>44.0</td>\n",
       "      <td>No</td>\n",
       "      <td>Yes</td>\n",
       "    </tr>\n",
       "    <tr>\n",
       "      <th>2</th>\n",
       "      <td>Didsbury Gin</td>\n",
       "      <td>[Jenny Campbell]</td>\n",
       "      <td>16</td>\n",
       "      <td>75000</td>\n",
       "      <td>33.0</td>\n",
       "      <td>Yes</td>\n",
       "      <td>Yes</td>\n",
       "    </tr>\n",
       "    <tr>\n",
       "      <th>3</th>\n",
       "      <td>Van De Sant Innovations</td>\n",
       "      <td>[Deborah Meaden]</td>\n",
       "      <td>16</td>\n",
       "      <td>70000</td>\n",
       "      <td>15.0</td>\n",
       "      <td>No</td>\n",
       "      <td>Yes</td>\n",
       "    </tr>\n",
       "    <tr>\n",
       "      <th>4</th>\n",
       "      <td>OHMME</td>\n",
       "      <td>[Peter Jones]</td>\n",
       "      <td>16</td>\n",
       "      <td>80000</td>\n",
       "      <td>20.0</td>\n",
       "      <td>No</td>\n",
       "      <td>Yes</td>\n",
       "    </tr>\n",
       "  </tbody>\n",
       "</table>\n",
       "</div>"
      ],
      "text/plain": [
       "              company_name   investors_names series  investment  equity  \\\n",
       "0               Oatein Ltd     [Peter Jones]     16       50000    25.0   \n",
       "1       Buddies Toothpaste                []     16       60000    44.0   \n",
       "2             Didsbury Gin  [Jenny Campbell]     16       75000    33.0   \n",
       "3  Van De Sant Innovations  [Deborah Meaden]     16       70000    15.0   \n",
       "4                    OHMME     [Peter Jones]     16       80000    20.0   \n",
       "\n",
       "  went_through still_in_business  \n",
       "0           No               Yes  \n",
       "1           No               Yes  \n",
       "2          Yes               Yes  \n",
       "3           No               Yes  \n",
       "4           No               Yes  "
      ]
     },
     "execution_count": 16,
     "metadata": {},
     "output_type": "execute_result"
    }
   ],
   "source": [
    "df.head()"
   ]
  },
  {
   "cell_type": "code",
   "execution_count": 17,
   "metadata": {},
   "outputs": [
    {
     "data": {
      "image/png": "[encoded data removed]",
      "text/plain": [
       "<Figure size 648x432 with 2 Axes>"
      ]
     },
     "metadata": {
      "needs_background": "light"
     },
     "output_type": "display_data"
    }
   ],
   "source": [
    "font = {'weight' : 'normal',\n",
    "        'size'   : 12}\n",
    "\n",
    "matplotlib.rc('font', **font)\n",
    "\n",
    "f, axes = plt.subplots(1, 2, figsize=(9, 6), sharey = True)\n",
    "\n",
    "ax1 = sns.countplot('went_through', data=df, palette = [\"#43f52c\", \"#ff0000\"], ax = axes[0], order=[\"Yes\",\"No\"])\n",
    "ax1.set(xlabel='Investment went through', ylabel='Companies Count')\n",
    "\n",
    "ax2 = sns.countplot('still_in_business', data=df, palette =[\"#43f52c\", \"#ff0000\"], ax =axes[1])\n",
    "ax2.set(xlabel='Still in Business', ylabel='')\n",
    "\n",
    "\n",
    "plt.setp(axes, yticks=[0,25,50, 75, 100, 125, 150, 175])\n",
    "plt.tight_layout()"
   ]
  },
  {
   "cell_type": "markdown",
   "metadata": {},
   "source": [
    "The majority of investments broke down following after-show negociations"
   ]
  },
  {
   "cell_type": "code",
   "execution_count": 18,
   "metadata": {},
   "outputs": [
    {
     "name": "stdout",
     "output_type": "stream",
     "text": [
      "Only 41.57 % went through\n"
     ]
    }
   ],
   "source": [
    "s = df['went_through'].value_counts('No')*100\n",
    "wentThrough = s['Yes']\n",
    "print(f'Only {wentThrough:.2f} % went through')"
   ]
  },
  {
   "cell_type": "code",
   "execution_count": 19,
   "metadata": {},
   "outputs": [
    {
     "name": "stdout",
     "output_type": "stream",
     "text": [
      "72.94 % of commpanies were still active by the end of the 2019 series\n"
     ]
    }
   ],
   "source": [
    "b = df['still_in_business'].value_counts('No')*100\n",
    "inBusiness = b['Yes']\n",
    "print(f'{inBusiness:.2f} % of commpanies were still active by the end of the 2019 series')"
   ]
  },
  {
   "cell_type": "code",
   "execution_count": 20,
   "metadata": {},
   "outputs": [],
   "source": [
    "def investment_histogram(dataframe_, coords):\n",
    "\n",
    "    #fig, ax  = plt.subplots()\n",
    "    ax_invest = sns.distplot(dataframe_['investment'], kde_kws = {'color': 'k'},\n",
    "                hist_kws = {'color':'green', 'alpha': 1}, ax = coords)#plot a histogram and a kernel density estimation\n",
    "    ax_invest.set_xlabel('Pounds £')\n",
    "     \n",
    "    #code below deals with ticks positions and formating\n",
    "    ax_invest.xaxis.set_ticks_position('bottom')\n",
    "    ax_invest.yaxis.set_ticks_position('left')\n",
    "    ax_invest.set_xlim(0,275000)\n",
    "\n",
    "    ax_invest.tick_params(which='major', width=1.00, length=5)\n",
    "    ax_invest.tick_params(which='minor', width=0.75, length=2.5)\n",
    "    ax_invest.xaxis.set_minor_locator(ticker.MultipleLocator(10000))\n",
    "    ax_invest.xaxis.set_major_locator(ticker.MultipleLocator(50000))  \n",
    "    \n",
    "    ax_invest.get_xaxis().set_major_formatter(\n",
    "        matplotlib.ticker.FuncFormatter(lambda x, p: format(int(x), ',')))#change x axis labels format from '10000' to '10,000'"
   ]
  },
  {
   "cell_type": "code",
   "execution_count": 21,
   "metadata": {},
   "outputs": [],
   "source": [
    "def equity_histogram(dataframe_, coords):\n",
    "\n",
    "    ax_equity = sns.distplot(dataframe_['equity'], kde_kws = {'color': 'k'},\n",
    "                hist_kws = {'color':'b', 'alpha': 1}, ax = coords)#plot a histogram and a kernel density estimation\n",
    "    ax_equity.set_xlabel('Equity')\n",
    "    \n",
    "    #code below deals with ticks positions and formating\n",
    "    ax_equity.xaxis.set_ticks_position('bottom')\n",
    "    ax_equity.yaxis.set_ticks_position('left')\n",
    "    ax_equity.set_xlim(0,85)\n",
    "    \n",
    "    ax_equity.tick_params(which='major', width=1.00, length=5)\n",
    "    ax_equity.tick_params(which='minor', width=0.75, length=2.5)\n",
    "    ax_equity.xaxis.set_minor_locator(ticker.MultipleLocator(5))\n",
    "    ax_equity.xaxis.set_major_locator(ticker.MultipleLocator(10))\n",
    "    \n",
    "    ax_equity.xaxis.set_major_formatter(ticker.PercentFormatter(xmax=100))# make x axis labels show % sign"
   ]
  },
  {
   "cell_type": "code",
   "execution_count": 22,
   "metadata": {},
   "outputs": [
    {
     "data": {
      "image/png": "[encoded data removed]",
      "text/plain": [
       "<Figure size 1008x432 with 2 Axes>"
      ]
     },
     "metadata": {
      "needs_background": "light"
     },
     "output_type": "display_data"
    }
   ],
   "source": [
    "f, axes = plt.subplots(1, 2, figsize=(14, 6))\n",
    "\n",
    "investment_histogram(df, axes[0])\n",
    "equity_histogram(df,axes[1])"
   ]
  },
  {
   "cell_type": "code",
   "execution_count": 23,
   "metadata": {},
   "outputs": [],
   "source": [
    "df_invested = df[df.went_through == 'Yes'] # create a new data frame only containing data for investments that went through"
   ]
  },
  {
   "cell_type": "code",
   "execution_count": 24,
   "metadata": {},
   "outputs": [
    {
     "data": {
      "image/png": "[encoded data removed]",
      "text/plain": [
       "<Figure size 1008x432 with 2 Axes>"
      ]
     },
     "metadata": {
      "needs_background": "light"
     },
     "output_type": "display_data"
    }
   ],
   "source": [
    "f, axes = plt.subplots(1, 2, figsize=(14, 6))\n",
    "\n",
    "\n",
    "investment_histogram(df_invested, axes[0])\n",
    "equity_histogram(df_invested, axes[1])"
   ]
  },
  {
   "cell_type": "code",
   "execution_count": 84,
   "metadata": {},
   "outputs": [],
   "source": [
    "#name the data frames to be able to call them in the function below\n",
    "df.name = 'pledged'\n",
    "df_invested.name = 'final'"
   ]
  },
  {
   "cell_type": "code",
   "execution_count": 94,
   "metadata": {},
   "outputs": [],
   "source": [
    "def mean_median_std(df, eq_or_inv): #defining a function to print mean, median and stdv\n",
    "    if eq_or_inv[0].lower() =='i': s, text = '£', 'investments' #if investment, print a pound sign and text = investment\n",
    "    else: s, text = '%', 'equity sold'\n",
    "    print(f'Mean, median, standard deviation of {df.name} {text}: {s}{df[eq_or_inv].mean():.0f}, {s}{df[eq_or_inv].median():.0f}, {s}{df[eq_or_inv].std():.0f}  ')\n"
   ]
  },
  {
   "cell_type": "code",
   "execution_count": 89,
   "metadata": {},
   "outputs": [
    {
     "name": "stdout",
     "output_type": "stream",
     "text": [
      "Mean, median, standard deviation of pledged investments: £80691, £75000, £39891  \n",
      "Mean, median, standard deviation of pledged equity sold: %31, %30, %11  \n",
      "\n",
      "\n",
      "Mean, median, standard deviation of final investments: £77434, £70000, £36003  \n",
      "Mean, median, standard deviation of final equity sold: %32, %30, %11  \n"
     ]
    }
   ],
   "source": [
    "mean_median_std(df, 'investment')\n",
    "mean_median_std(df, 'equity')\n",
    "print('\\n')\n",
    "mean_median_std(df_invested, 'investment')\n",
    "mean_median_std(df_invested, 'equity')"
   ]
  },
  {
   "cell_type": "markdown",
   "metadata": {},
   "source": [
    "Both investment amount and equity are very similar between investments decided on the show and completed deals.\n",
    "The biggest difference is between the medians of investments, being £5,000 less (6.6%) for finalized backings."
   ]
  },
  {
   "cell_type": "code",
   "execution_count": 110,
   "metadata": {},
   "outputs": [
    {
     "name": "stdout",
     "output_type": "stream",
     "text": [
      "The Pearson correlation coefficient between offered amount and equity is 0.11\n"
     ]
    }
   ],
   "source": [
    "print(f'The Pearson correlation coefficient between offered amount and equity is very low, {df.corr().iloc[1][0]:.2f}')"
   ]
  },
  {
   "cell_type": "code",
   "execution_count": 131,
   "metadata": {},
   "outputs": [
    {
     "name": "stdout",
     "output_type": "stream",
     "text": [
      "The Pearson correlation coefficient between finalized investment and equity is slightly higher, but still too low to be \n",
      "considered significant, 0.18\n"
     ]
    }
   ],
   "source": [
    "print(f'The Pearson correlation coefficient between finalized investment and equity is slightly higher, but still too low to be \\nconsidered significant, {df_invested.corr().iloc[1][0]:.2f}')"
   ]
  },
  {
   "cell_type": "code",
   "execution_count": 125,
   "metadata": {},
   "outputs": [],
   "source": [
    "#Turning no ->0 and yes ->1 in order to calculate correlation of investment going through with investments and equity\n",
    "df.went_through.loc[df.went_through =='No'] = 0\n",
    "df.went_through.loc[df.went_through =='Yes'] = 1\n",
    "df.went_through = df.went_through.astype(int)"
   ]
  },
  {
   "cell_type": "code",
   "execution_count": 126,
   "metadata": {},
   "outputs": [
    {
     "data": {
      "text/html": [
       "<div>\n",
       "<style scoped>\n",
       "    .dataframe tbody tr th:only-of-type {\n",
       "        vertical-align: middle;\n",
       "    }\n",
       "\n",
       "    .dataframe tbody tr th {\n",
       "        vertical-align: top;\n",
       "    }\n",
       "\n",
       "    .dataframe thead th {\n",
       "        text-align: right;\n",
       "    }\n",
       "</style>\n",
       "<table border=\"1\" class=\"dataframe\">\n",
       "  <thead>\n",
       "    <tr style=\"text-align: right;\">\n",
       "      <th></th>\n",
       "      <th>investment</th>\n",
       "      <th>equity</th>\n",
       "      <th>went_through</th>\n",
       "    </tr>\n",
       "  </thead>\n",
       "  <tbody>\n",
       "    <tr>\n",
       "      <th>investment</th>\n",
       "      <td>1.000000</td>\n",
       "      <td>0.113244</td>\n",
       "      <td>-0.069001</td>\n",
       "    </tr>\n",
       "    <tr>\n",
       "      <th>equity</th>\n",
       "      <td>0.113244</td>\n",
       "      <td>1.000000</td>\n",
       "      <td>0.030343</td>\n",
       "    </tr>\n",
       "    <tr>\n",
       "      <th>went_through</th>\n",
       "      <td>-0.069001</td>\n",
       "      <td>0.030343</td>\n",
       "      <td>1.000000</td>\n",
       "    </tr>\n",
       "  </tbody>\n",
       "</table>\n",
       "</div>"
      ],
      "text/plain": [
       "              investment    equity  went_through\n",
       "investment      1.000000  0.113244     -0.069001\n",
       "equity          0.113244  1.000000      0.030343\n",
       "went_through   -0.069001  0.030343      1.000000"
      ]
     },
     "execution_count": 126,
     "metadata": {},
     "output_type": "execute_result"
    }
   ],
   "source": [
    "df.corr()"
   ]
  },
  {
   "cell_type": "markdown",
   "metadata": {},
   "source": [
    "As it may be expected from the histograms, there is virtually no correlation between follow up status and either\n",
    "equity or investment amount"
   ]
  },
  {
   "cell_type": "code",
   "execution_count": 127,
   "metadata": {},
   "outputs": [
    {
     "name": "stderr",
     "output_type": "stream",
     "text": [
      "C:\\Users\\TotEu\\anaconda3\\lib\\site-packages\\pandas\\core\\indexing.py:671: SettingWithCopyWarning: \n",
      "A value is trying to be set on a copy of a slice from a DataFrame\n",
      "\n",
      "See the caveats in the documentation: https://pandas.pydata.org/pandas-docs/stable/user_guide/indexing.html#returning-a-view-versus-a-copy\n",
      "  self._setitem_with_indexer(indexer, value)\n"
     ]
    }
   ],
   "source": [
    "#Rever the previous change made to df\n",
    "df.went_through.loc[df.went_through ==0] = 'No'\n",
    "df.went_through.loc[df.went_through ==1] = 'Yes'"
   ]
  },
  {
   "cell_type": "code",
   "execution_count": 25,
   "metadata": {},
   "outputs": [
    {
     "data": {
      "text/html": [
       "<div>\n",
       "<style scoped>\n",
       "    .dataframe tbody tr th:only-of-type {\n",
       "        vertical-align: middle;\n",
       "    }\n",
       "\n",
       "    .dataframe tbody tr th {\n",
       "        vertical-align: top;\n",
       "    }\n",
       "\n",
       "    .dataframe thead th {\n",
       "        text-align: right;\n",
       "    }\n",
       "</style>\n",
       "<table border=\"1\" class=\"dataframe\">\n",
       "  <thead>\n",
       "    <tr style=\"text-align: right;\">\n",
       "      <th></th>\n",
       "      <th>company_name</th>\n",
       "      <th>equity</th>\n",
       "      <th>investment</th>\n",
       "      <th>investors_names</th>\n",
       "      <th>series</th>\n",
       "      <th>still_in_business</th>\n",
       "      <th>went_through</th>\n",
       "    </tr>\n",
       "  </thead>\n",
       "  <tbody>\n",
       "    <tr>\n",
       "      <th>136</th>\n",
       "      <td>Zapper</td>\n",
       "      <td>30.0</td>\n",
       "      <td>250000.0</td>\n",
       "      <td>[Theo Paphitis]</td>\n",
       "      <td>10</td>\n",
       "      <td>Yes</td>\n",
       "      <td>No</td>\n",
       "    </tr>\n",
       "    <tr>\n",
       "      <th>205</th>\n",
       "      <td>DDN Ltd</td>\n",
       "      <td>25.0</td>\n",
       "      <td>250000.0</td>\n",
       "      <td>[Deborah Meaden, Theo Paphitis]</td>\n",
       "      <td>6</td>\n",
       "      <td>Yes</td>\n",
       "      <td>No</td>\n",
       "    </tr>\n",
       "  </tbody>\n",
       "</table>\n",
       "</div>"
      ],
      "text/plain": [
       "    company_name  equity  investment                  investors_names series  \\\n",
       "136       Zapper    30.0    250000.0                  [Theo Paphitis]     10   \n",
       "205      DDN Ltd    25.0    250000.0  [Deborah Meaden, Theo Paphitis]      6   \n",
       "\n",
       "    still_in_business went_through  \n",
       "136               Yes           No  \n",
       "205               Yes           No  "
      ]
     },
     "execution_count": 25,
     "metadata": {},
     "output_type": "execute_result"
    }
   ],
   "source": [
    "#Printing the information of the largest investments.  \n",
    "def print_max(df, column):\n",
    "    to_print = pd.DataFrame()\n",
    "    maximum = max(df[column])\n",
    "    for i, amount in enumerate(df[column]): # not using argmax as there may be more than one maximum\n",
    "        if amount == maximum:\n",
    "            to_print = to_print.append(df.iloc[i])\n",
    "    return to_print\n",
    "\n",
    "print_max(df, 'investment')\n",
    "#These print statements are hidden as they were just used to get some of the info for the description below    "
   ]
  },
  {
   "cell_type": "code",
   "execution_count": 26,
   "metadata": {},
   "outputs": [
    {
     "data": {
      "text/html": [
       "<div>\n",
       "<style scoped>\n",
       "    .dataframe tbody tr th:only-of-type {\n",
       "        vertical-align: middle;\n",
       "    }\n",
       "\n",
       "    .dataframe tbody tr th {\n",
       "        vertical-align: top;\n",
       "    }\n",
       "\n",
       "    .dataframe thead th {\n",
       "        text-align: right;\n",
       "    }\n",
       "</style>\n",
       "<table border=\"1\" class=\"dataframe\">\n",
       "  <thead>\n",
       "    <tr style=\"text-align: right;\">\n",
       "      <th></th>\n",
       "      <th>company_name</th>\n",
       "      <th>equity</th>\n",
       "      <th>investment</th>\n",
       "      <th>investors_names</th>\n",
       "      <th>series</th>\n",
       "      <th>still_in_business</th>\n",
       "      <th>went_through</th>\n",
       "    </tr>\n",
       "  </thead>\n",
       "  <tbody>\n",
       "    <tr>\n",
       "      <th>196</th>\n",
       "      <td>ProWaste Management Services</td>\n",
       "      <td>40.0</td>\n",
       "      <td>200000.0</td>\n",
       "      <td>[Deborah Meaden, Duncan Bannatyne]</td>\n",
       "      <td>6</td>\n",
       "      <td>Yes</td>\n",
       "      <td>Yes</td>\n",
       "    </tr>\n",
       "    <tr>\n",
       "      <th>220</th>\n",
       "      <td>Gaming Alerts</td>\n",
       "      <td>30.0</td>\n",
       "      <td>200000.0</td>\n",
       "      <td>[Theo Paphitis]</td>\n",
       "      <td>5</td>\n",
       "      <td>No</td>\n",
       "      <td>Yes</td>\n",
       "    </tr>\n",
       "  </tbody>\n",
       "</table>\n",
       "</div>"
      ],
      "text/plain": [
       "                     company_name  equity  investment  \\\n",
       "196  ProWaste Management Services    40.0    200000.0   \n",
       "220                 Gaming Alerts    30.0    200000.0   \n",
       "\n",
       "                        investors_names series still_in_business went_through  \n",
       "196  [Deborah Meaden, Duncan Bannatyne]      6               Yes          Yes  \n",
       "220                     [Theo Paphitis]      5                No          Yes  "
      ]
     },
     "execution_count": 26,
     "metadata": {},
     "output_type": "execute_result"
    }
   ],
   "source": [
    "#Largest investments that went through\n",
    "print_max(df_invested, 'investment')"
   ]
  },
  {
   "cell_type": "code",
   "execution_count": 27,
   "metadata": {},
   "outputs": [
    {
     "data": {
      "text/html": [
       "<div>\n",
       "<style scoped>\n",
       "    .dataframe tbody tr th:only-of-type {\n",
       "        vertical-align: middle;\n",
       "    }\n",
       "\n",
       "    .dataframe tbody tr th {\n",
       "        vertical-align: top;\n",
       "    }\n",
       "\n",
       "    .dataframe thead th {\n",
       "        text-align: right;\n",
       "    }\n",
       "</style>\n",
       "<table border=\"1\" class=\"dataframe\">\n",
       "  <thead>\n",
       "    <tr style=\"text-align: right;\">\n",
       "      <th></th>\n",
       "      <th>company_name</th>\n",
       "      <th>equity</th>\n",
       "      <th>investment</th>\n",
       "      <th>investors_names</th>\n",
       "      <th>series</th>\n",
       "      <th>still_in_business</th>\n",
       "      <th>went_through</th>\n",
       "    </tr>\n",
       "  </thead>\n",
       "  <tbody>\n",
       "    <tr>\n",
       "      <th>151</th>\n",
       "      <td>RKA Records</td>\n",
       "      <td>79.0</td>\n",
       "      <td>50000.0</td>\n",
       "      <td>[Duncan Bannatyne]</td>\n",
       "      <td>9</td>\n",
       "      <td>No</td>\n",
       "      <td>Yes</td>\n",
       "    </tr>\n",
       "  </tbody>\n",
       "</table>\n",
       "</div>"
      ],
      "text/plain": [
       "    company_name  equity  investment     investors_names series  \\\n",
       "151  RKA Records    79.0     50000.0  [Duncan Bannatyne]      9   \n",
       "\n",
       "    still_in_business went_through  \n",
       "151                No          Yes  "
      ]
     },
     "execution_count": 27,
     "metadata": {},
     "output_type": "execute_result"
    }
   ],
   "source": [
    "print_max(df_invested, 'equity')"
   ]
  },
  {
   "cell_type": "markdown",
   "metadata": {},
   "source": [
    "The investment amount and equity % curves follow approximately the same trend for investments made on the show and the deals that stood following after-show negociations.\n",
    "\n",
    "Most investments are in the £50,000-80,000 range. £250,000 is the largest amount invested. \n",
    "There were two times when this sum was pledged, however in both situations the parties couldn't agree on a deal after the show. One investment was by Theo Paphitis in Zapper for 30% equity, while the other was made by Theo Paphitis and Deborah Meaden with DDN Ltd for 25% combined shares. Both companies were still in business by the end of 2019.\n",
    "\n",
    "The largest completed investments were for 200,000 £. The first was made by Theo Paphitis in 2007 in Gaming Alerts for 30% equity. The company was dissolved in 2011 with Paphitis still holding a 30% share in the business. \n",
    "The second was made by Deborah Meaden and Duncan Bannatyne one year later for a shared 40% equity in ProWaste Management Services. \n",
    "Duncan and Deborah retired their positions as Directors in 2011.\n",
    " \n",
    "Most common % equity sold lies in the 25-35% range. The overwhelming majority of entrepreneurs haven't sold more than 50% shares in their company. However there was one significant exception: in 2011 Duncan Bannatyne purchased 79% equity in RKA Records for 50,000 £. The investment went through and the company renamed itself Bannatyne Music Ltd with Duncan owning a 51% share in the business. It's still active at Companies House but is not running as a business."
   ]
  },
  {
   "cell_type": "code",
   "execution_count": 28,
   "metadata": {},
   "outputs": [],
   "source": [
    "#in order to plot the series in ascending order:\n",
    "seasons_as_int = df.series.unique()[::-1]# get a list of individual series sorted\n",
    "seasons = pd.Series(seasons_as_int).map(lambda a: str(a)).tolist() #turn values to string type"
   ]
  },
  {
   "cell_type": "code",
   "execution_count": 29,
   "metadata": {},
   "outputs": [
    {
     "data": {
      "image/png": "[encoded data removed]",
      "text/plain": [
       "<Figure size 720x432 with 1 Axes>"
      ]
     },
     "execution_count": 29,
     "metadata": {},
     "output_type": "execute_result"
    }
   ],
   "source": [
    "figure(figsize = (10,6))\n",
    "f = sns.countplot('series', data=df, order = seasons, hue = 'went_through')\n",
    "f.set_title('Investments on the show')\n",
    "f.set_xlabel('Series')\n",
    "f.set_ylabel('')\n",
    "f.legend_.set_title('Went Through')\n",
    "plt.close()\n",
    "f.figure"
   ]
  },
  {
   "cell_type": "code",
   "execution_count": 30,
   "metadata": {},
   "outputs": [],
   "source": [
    "df_15 = df[df.series == '15']\n",
    "df_16 = df[df.series == '16']\n",
    "df_last_two = df_15.append(df_16)"
   ]
  },
  {
   "cell_type": "code",
   "execution_count": 31,
   "metadata": {},
   "outputs": [],
   "source": [
    "itwt = df_last_two['went_through'].tolist().count('Yes')# 11\n",
    "tot = len(df_last_two)#48"
   ]
  },
  {
   "cell_type": "code",
   "execution_count": 32,
   "metadata": {},
   "outputs": [],
   "source": [
    "df_6 = df[df.series == '6']"
   ]
  },
  {
   "cell_type": "code",
   "execution_count": 33,
   "metadata": {},
   "outputs": [],
   "source": [
    "itwt_6 = df_6['went_through'].tolist().count('Yes') #11\n",
    "tot_6 = len(df_6) #14"
   ]
  },
  {
   "cell_type": "markdown",
   "metadata": {},
   "source": [
    "The general trend of investments per series has been growing, which can mostly be explained by the increase in number of episodes per series.\n",
    "\n",
    "As expected, during the majority of series, most investments didn't go through. In series 15 and 16 especially, only 23% of investments were completed. The exceptions are series 4, 5, 6, 13 and 14. During the 6th series, 79% of investments went through. "
   ]
  },
  {
   "cell_type": "code",
   "execution_count": 34,
   "metadata": {},
   "outputs": [],
   "source": [
    "def get_names(df):\n",
    "    names_list = df['investors_names'].tolist()#currently a list of lists of investors for each company\n",
    "\n",
    "    #just a list of investors, which appear each time they were invested:\n",
    "    flat_list = [investor for company in names_list for investor in company]\n",
    "\n",
    "    #changing the names to appear shorter:\n",
    "    shortened_names = []\n",
    "    for n in flat_list:\n",
    "        names = n.split(' ')\n",
    "        names[0] = names[0][0]\n",
    "        fin = '. '.join(names)\n",
    "        shortened_names.append(fin)\n",
    "    \n",
    "    return shortened_names\n",
    "shortened_names = get_names(df)"
   ]
  },
  {
   "cell_type": "code",
   "execution_count": 35,
   "metadata": {},
   "outputs": [],
   "source": [
    "times_dict = {} # creating a dictionary with the investors and how many times they pledged an investment\n",
    "for name in set(shortened_names):\n",
    "    times_invested = shortened_names.count(name)\n",
    "    d = {name: times_invested}\n",
    "    times_dict.update(d)\n",
    "    \n",
    "    \n",
    "ordered_names = sorted(times_dict.items(), key = \n",
    "             lambda kv:(kv[1], kv[0]), reverse = True)#sorting by number of pledges \n",
    "\n",
    "\n",
    "final_ordered_names = [] #get a list with names without the counts\n",
    "for name in ordered_names:\n",
    "    final_ordered_names.append(name[0])"
   ]
  },
  {
   "cell_type": "code",
   "execution_count": 36,
   "metadata": {},
   "outputs": [
    {
     "data": {
      "image/png": "[encoded data removed]",
      "text/plain": [
       "<Figure size 1872x720 with 1 Axes>"
      ]
     },
     "metadata": {
      "needs_background": "light"
     },
     "output_type": "display_data"
    }
   ],
   "source": [
    "def investors_plot(names, title):\n",
    "\n",
    "    plt.figure(figsize=(26,10))\n",
    "    sns.countplot(names, order = final_ordered_names) #order by times pledged\n",
    "    plt.title(title, fontsize = '22')\n",
    "    plt.ylabel('')\n",
    "    plt.yticks(fontsize = '14')\n",
    "    plt.xticks(fontsize = '12')\n",
    "    plt.show()\n",
    "    \n",
    "\n",
    "investors_plot(shortened_names, 'Investments pledged on show')"
   ]
  },
  {
   "cell_type": "code",
   "execution_count": 37,
   "metadata": {},
   "outputs": [],
   "source": [
    "shortened_names_invested = get_names(df_invested)"
   ]
  },
  {
   "cell_type": "code",
   "execution_count": 38,
   "metadata": {
    "scrolled": false
   },
   "outputs": [
    {
     "data": {
      "image/png": "[encoded data removed]",
      "text/plain": [
       "<Figure size 1872x720 with 1 Axes>"
      ]
     },
     "metadata": {
      "needs_background": "light"
     },
     "output_type": "display_data"
    }
   ],
   "source": [
    "investors_plot(shortened_names_invested, 'Investments went through')"
   ]
  },
  {
   "cell_type": "markdown",
   "metadata": {},
   "source": [
    "Peter Jones has has been the most prolific investor, having pledged 87 investments on the show. \n",
    "He also has the most investments that actually went through: 35; four more than Deborah Meaden.\n",
    "\n",
    "This is to be expected as he is the only one who has been in all the 16 series.\n",
    "\n",
    "Simon Woodroffe is the only dragon who hasn't had at least one investment go through."
   ]
  },
  {
   "cell_type": "code",
   "execution_count": 138,
   "metadata": {},
   "outputs": [
    {
     "name": "stdout",
     "output_type": "stream",
     "text": [
      "In total, £20576200 (£20.6 million) had been pledged by dragons by the end of the 16th series.\n"
     ]
    }
   ],
   "source": [
    "total_sum_invested = sum(df['investment'])\n",
    "print(f'In total, £{total_sum_invested} (£20.6 million) had been pledged by dragons by the end of the 16th series.')"
   ]
  },
  {
   "cell_type": "code",
   "execution_count": 40,
   "metadata": {},
   "outputs": [],
   "source": [
    "sum_actually_invested = sum(df_invested['investment'])"
   ]
  },
  {
   "cell_type": "code",
   "execution_count": 41,
   "metadata": {},
   "outputs": [],
   "source": [
    "invested_percent = sum_actually_invested/total_sum_invested*100"
   ]
  },
  {
   "cell_type": "code",
   "execution_count": 42,
   "metadata": {},
   "outputs": [
    {
     "name": "stdout",
     "output_type": "stream",
     "text": [
      "Out of that, only £8208000 (£8.2 million) ended up being invested, amounting to 39.89%\n"
     ]
    }
   ],
   "source": [
    "print (f'Out of that, only £{sum_actually_invested} (£8.2 million) ended up being invested, amounting to {invested_percent:.2f}%')"
   ]
  },
  {
   "cell_type": "code",
   "execution_count": 146,
   "metadata": {},
   "outputs": [
    {
     "name": "stdout",
     "output_type": "stream",
     "text": [
      "This is a ~5% decrease from the tigermobiles findings in 2015: 44.62% of the offered money had went through by the end of the \n",
      "11th series\n"
     ]
    }
   ],
   "source": [
    "prev_report_percent = 5.8/13*100\n",
    "print (f'This is a ~5% decrease from the tigermobiles findings in 2015: {prev_report_percent:.2f}% of the offered money had went through by the end of the \\n11th series')"
   ]
  },
  {
   "cell_type": "code",
   "execution_count": 44,
   "metadata": {},
   "outputs": [],
   "source": [
    "times_dict_invested = {} # creating a dictionary with the investors and how many times they invested\n",
    "for name in set(shortened_names):\n",
    "    times_invested= shortened_names_invested.count(name)\n",
    "    d = {name: times_invested}\n",
    "    times_dict_invested.update(d)"
   ]
  },
  {
   "cell_type": "code",
   "execution_count": 45,
   "metadata": {},
   "outputs": [],
   "source": [
    "# as the dictionaries have the same key order, the following code gets the %of times each investor went through with their\n",
    "#offer \n",
    "percentages_dict = {}\n",
    "for i in range(len(times_dict)):\n",
    "    name = list(list(times_dict.items())[i])[0]# this gets a key from the dictionary by index \n",
    "    original_investments = list(list(times_dict.items())[i])[1] #gets the value\n",
    "    actual_investments = list(list(times_dict_invested.items())[i])[1]\n",
    "    percentage = actual_investments/original_investments*100\n",
    "    d = {name:percentage}\n",
    "    percentages_dict.update(d)"
   ]
  },
  {
   "cell_type": "code",
   "execution_count": 46,
   "metadata": {},
   "outputs": [],
   "source": [
    "values = []\n",
    "keyz=[]\n",
    "for k,v in percentages_dict.items():# separate names and percentages\n",
    "    values.append(v)\n",
    "    keyz.append(k)"
   ]
  },
  {
   "cell_type": "code",
   "execution_count": 47,
   "metadata": {
    "scrolled": false
   },
   "outputs": [
    {
     "data": {
      "image/png": "[encoded data removed]",
      "text/plain": [
       "<Figure size 1872x720 with 1 Axes>"
      ]
     },
     "metadata": {
      "needs_background": "light"
     },
     "output_type": "display_data"
    }
   ],
   "source": [
    "plt.figure(figsize=(26,10))\n",
    "sns.barplot(keyz, values, order =final_ordered_names )\n",
    "plt.title('Ratio of deals going through after the show', fontsize = '22')\n",
    "plt.ylabel('Percentage %', fontsize = '18')\n",
    "plt.yticks(fontsize = '14')\n",
    "plt.xticks(fontsize = '12')\n",
    "plt.show()"
   ]
  },
  {
   "cell_type": "markdown",
   "metadata": {},
   "source": [
    "Tej Lalvani has been on the show since the 15th series. He has the lowest ratio of investments to pledged investments, 15%. Out of 13 initially agreed fundings, only 2 were followed through with, explaining the drastic decrease in the ratio for the past two seasons.\n",
    "\n"
   ]
  },
  {
   "cell_type": "markdown",
   "metadata": {},
   "source": [
    "In conclusion, it was found that only 41.5% of investments went through. In total 106 investments were made on the show by the end of the 16th series, totailing £8 million and averaging £77,500. The mean equity sold was 32%. There seems to be no significant connection between amount invested and equity offered. Moreover, there is no relationship between pledged amount and whether the investment went through or not.\n",
    "\n",
    "Peter Jones has been the most prolific dragon, having made 35 investments. He is closely followed by Deborah Meaden, 32, and the third place goes to Theo Paphitis, 22.\n",
    "\n",
    "J. Caan was the dragon who followed through most of his pledges, over 70%. At the other end of the spectrum, Tej Lavlani has only ended up investing 15% of the time he made a deal on the show. This low ratio is also seen in the overall trend of pledged/followed investments for the past 2 series, since he joined the show.\n",
    "\n",
    "Further investigation might include scraping additional sources and gathering more information on the investment preferences and tendencies of the dragons. With more data, designing a model that predicts whether an investment went through or not might also become feasible."
   ]
  }
 ],
 "metadata": {
  "kernelspec": {
   "display_name": "Python 3",
   "language": "python",
   "name": "python3"
  },
  "language_info": {
   "codemirror_mode": {
    "name": "ipython",
    "version": 3
   },
   "file_extension": ".py",
   "mimetype": "text/x-python",
   "name": "python",
   "nbconvert_exporter": "python",
   "pygments_lexer": "ipython3",
   "version": "3.7.6"
  }
 },
 "nbformat": 4,
 "nbformat_minor": 4
}
