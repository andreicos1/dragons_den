{
 "cells": [
  {
   "cell_type": "code",
   "execution_count": 168,
   "metadata": {},
   "outputs": [
    {
     "data": {
      "text/html": [
       "<script>\n",
       "code_show=true; \n",
       "function code_toggle() {\n",
       " if (code_show){\n",
       " $('div.input').hide();\n",
       " } else {\n",
       " $('div.input').show();\n",
       " }\n",
       " code_show = !code_show\n",
       "} \n",
       "$( document ).ready(code_toggle);\n",
       "</script>\n",
       "The raw code for this IPython notebook is by default hidden for easier reading.\n",
       "To toggle on/off the raw code, click <a href=\"javascript:code_toggle()\">here</a>."
      ],
      "text/plain": [
       "<IPython.core.display.HTML object>"
      ]
     },
     "execution_count": 168,
     "metadata": {},
     "output_type": "execute_result"
    }
   ],
   "source": [
    "from IPython.display import HTML\n",
    "from IPython.display import display\n",
    "#Allows the reader to hide/show the code cells. From https://pastebin.com/H77xP2vN\n",
    "HTML('''<script>\n",
    "code_show=true; \n",
    "function code_toggle() {\n",
    " if (code_show){\n",
    " $('div.input').hide();\n",
    " } else {\n",
    " $('div.input').show();\n",
    " }\n",
    " code_show = !code_show\n",
    "} \n",
    "$( document ).ready(code_toggle);\n",
    "</script>\n",
    "The raw code for this IPython notebook is by default hidden for easier reading.\n",
    "To toggle on/off the raw code, click <a href=\"javascript:code_toggle()\">here</a>.''')"
   ]
  },
  {
   "cell_type": "markdown",
   "metadata": {},
   "source": [
    "In this project the following questions are answered:\n",
    "<ul>\n",
    "    <li> How many companies are still in business ?</li>\n",
    "    <li> How many investemnts went through ?</li>\n",
    "    <li> What is the average amount of money invested ? How about the average % of equity shared ? </li>\n",
    "    <li> Who are the most active investors ?</li>\n",
    "    </ul>\n",
    "\n",
    "Further investigation could look into:\n",
    "<ul>\n",
    "    <li> Which dragons have made the most investments per episode ? </li>\n",
    "    <li> How well have the companies done after appearing on the show ?</li>\n",
    "    <li> What company type is most commonly appearing on the show/ most likely to earn an investment ?</li>\n"
   ]
  },
  {
   "cell_type": "code",
   "execution_count": 1,
   "metadata": {},
   "outputs": [],
   "source": [
    "import bs4\n",
    "from urllib.request import urlopen as uReq\n",
    "from bs4 import BeautifulSoup as soup\n",
    "import pandas as pd\n",
    "import re\n",
    "from pandas import Series, DataFrame\n",
    "import matplotlib\n",
    "import matplotlib.pyplot as plt\n",
    "import matplotlib.ticker as ticker\n",
    "from matplotlib.pyplot import figure\n",
    "import seaborn as sns\n",
    "%matplotlib inline\n"
   ]
  },
  {
   "cell_type": "code",
   "execution_count": 2,
   "metadata": {},
   "outputs": [],
   "source": [
    "url = 'https://www.tigermobiles.com/dragons-den/'"
   ]
  },
  {
   "cell_type": "code",
   "execution_count": 3,
   "metadata": {},
   "outputs": [],
   "source": [
    "uClient = uReq(url) #openning up a connection, grabbing the page"
   ]
  },
  {
   "cell_type": "code",
   "execution_count": 4,
   "metadata": {},
   "outputs": [],
   "source": [
    "page_html = uClient.read() #offloads the content into a variable\n",
    "uClient.close() #close the file"
   ]
  },
  {
   "cell_type": "code",
   "execution_count": 5,
   "metadata": {},
   "outputs": [],
   "source": [
    "page_soup = soup(page_html, 'lxml') # #the text needs to be parsed (as we have the raw html at the moment)"
   ]
  },
  {
   "cell_type": "code",
   "execution_count": 6,
   "metadata": {},
   "outputs": [],
   "source": [
    "columns = page_soup.find('div', {'class': 'cols all-items'})#the part of the webpage containing a column of all companies"
   ]
  },
  {
   "cell_type": "code",
   "execution_count": 7,
   "metadata": {},
   "outputs": [],
   "source": [
    "companies_info = columns.find_all('div',{'class':'dd-item-desc'})#a list of info for all individual companies"
   ]
  },
  {
   "cell_type": "code",
   "execution_count": 8,
   "metadata": {},
   "outputs": [],
   "source": [
    "#Required data is:\n",
    "#company name: h2\n",
    "#investor name : div class 'dd-profile'\n",
    "#series\n",
    "#ivestment amount\n",
    "#equity bought\n",
    "#did the investment go through ?\n",
    "#is the company still in bussiness ?\n",
    "\n",
    "#In the future, could get the other data such as incorporation date as well"
   ]
  },
  {
   "cell_type": "code",
   "execution_count": 9,
   "metadata": {},
   "outputs": [],
   "source": [
    "company_names = []\n",
    "investors_list = []\n",
    "show_series = []\n",
    "investment_amount = []\n",
    "equity_shared = []\n",
    "investment_went_trhough = []\n",
    "company_still_in_business = []\n",
    "\n",
    "\n",
    "for company in companies_info:\n",
    "    \n",
    "    company_name = company.find('h2').text\n",
    "    company_names.append(company_name)\n",
    "    \n",
    "    \n",
    "    investors = company.find_all('div',{'class': 'dd-profile'})# there can be more than one investor\n",
    "    # the name is in the form of 'FistLast', so to make it look better it's changed to 'First Last'\n",
    "    investors_names =[]\n",
    "    for investor in investors:\n",
    "        investor = investor.text\n",
    "        first_and_last = re.sub( r\"([A-Z])\", r\" \\1\", investor).split()#split on capital letter\n",
    "        investor_name = ' '.join(first_and_last)#join the names back into a string with a space between them\n",
    "        investors_names.append(investor_name)\n",
    "    investors_list.append(investors_names)\n",
    "    \n",
    "    \n",
    "    # the last three h4 elements are the show's Series number, the investment amount and the equity% purchased\n",
    "    details = company.find_all('span')[1:]#the first one is the names of the people appearing on the show\n",
    "    series = details[0].text\n",
    "    show_series.append(series)\n",
    "    investment = details[1].text\n",
    "    investment_amount.append(investment)\n",
    "    equity = details[2].text\n",
    "    equity_shared.append(equity)\n",
    "    \n",
    "    \n",
    "    # the first two 'one-half' class divs are info on what happened after the show\n",
    "    follow_up = company.find_all('div', {'class':'one-half'})[:2]\n",
    "\n",
    "    #the answer to the question is in the form of an image with a specific div.\n",
    "    icon_yes_0 = follow_up[0].find('div',{'class':'icon-yes'})# if the icon is no, the outpout is None\n",
    "\n",
    "    if icon_yes_0:\n",
    "        went_through ='Yes'\n",
    "    else:\n",
    "        went_through = 'No' \n",
    "    investment_went_trhough.append(went_through)\n",
    "\n",
    "    icon_yes_1 = follow_up[1].find('div',{'class':'icon-yes'})\n",
    "\n",
    "    if icon_yes_1:\n",
    "        still_in_business ='Yes'\n",
    "    else:\n",
    "        still_in_business = 'No' \n",
    "    company_still_in_business.append(still_in_business)"
   ]
  },
  {
   "cell_type": "code",
   "execution_count": 10,
   "metadata": {},
   "outputs": [],
   "source": [
    "df = DataFrame(list(zip(company_names,investors_list, show_series, investment_amount, \n",
    "                        equity_shared, investment_went_trhough, company_still_in_business)),\n",
    "              columns =['company_name', 'investors_names', 'series','investment','equity','went_through','still_in_business'])"
   ]
  },
  {
   "cell_type": "code",
   "execution_count": 11,
   "metadata": {},
   "outputs": [
    {
     "data": {
      "text/html": [
       "<div>\n",
       "<style scoped>\n",
       "    .dataframe tbody tr th:only-of-type {\n",
       "        vertical-align: middle;\n",
       "    }\n",
       "\n",
       "    .dataframe tbody tr th {\n",
       "        vertical-align: top;\n",
       "    }\n",
       "\n",
       "    .dataframe thead th {\n",
       "        text-align: right;\n",
       "    }\n",
       "</style>\n",
       "<table border=\"1\" class=\"dataframe\">\n",
       "  <thead>\n",
       "    <tr style=\"text-align: right;\">\n",
       "      <th></th>\n",
       "      <th>company_name</th>\n",
       "      <th>investors_names</th>\n",
       "      <th>series</th>\n",
       "      <th>investment</th>\n",
       "      <th>equity</th>\n",
       "      <th>went_through</th>\n",
       "      <th>still_in_business</th>\n",
       "    </tr>\n",
       "  </thead>\n",
       "  <tbody>\n",
       "    <tr>\n",
       "      <th>0</th>\n",
       "      <td>Oatein Ltd</td>\n",
       "      <td>[Peter Jones]</td>\n",
       "      <td>16</td>\n",
       "      <td>£50,000</td>\n",
       "      <td>25%</td>\n",
       "      <td>No</td>\n",
       "      <td>Yes</td>\n",
       "    </tr>\n",
       "    <tr>\n",
       "      <th>1</th>\n",
       "      <td>Buddies Toothpaste</td>\n",
       "      <td>[]</td>\n",
       "      <td>16</td>\n",
       "      <td>£60,000</td>\n",
       "      <td>44%</td>\n",
       "      <td>No</td>\n",
       "      <td>Yes</td>\n",
       "    </tr>\n",
       "    <tr>\n",
       "      <th>2</th>\n",
       "      <td>Didsbury Gin</td>\n",
       "      <td>[Jenny Campbell]</td>\n",
       "      <td>16</td>\n",
       "      <td>£75,000</td>\n",
       "      <td>33%</td>\n",
       "      <td>Yes</td>\n",
       "      <td>Yes</td>\n",
       "    </tr>\n",
       "    <tr>\n",
       "      <th>3</th>\n",
       "      <td>Van De Sant Innovations</td>\n",
       "      <td>[Deborah Meaden]</td>\n",
       "      <td>16</td>\n",
       "      <td>£70,000</td>\n",
       "      <td>15%</td>\n",
       "      <td>No</td>\n",
       "      <td>Yes</td>\n",
       "    </tr>\n",
       "    <tr>\n",
       "      <th>4</th>\n",
       "      <td>OHMME</td>\n",
       "      <td>[Peter Jones]</td>\n",
       "      <td>16</td>\n",
       "      <td>£80,000</td>\n",
       "      <td>20%</td>\n",
       "      <td>No</td>\n",
       "      <td>Yes</td>\n",
       "    </tr>\n",
       "  </tbody>\n",
       "</table>\n",
       "</div>"
      ],
      "text/plain": [
       "              company_name   investors_names series investment equity  \\\n",
       "0               Oatein Ltd     [Peter Jones]     16    £50,000    25%   \n",
       "1       Buddies Toothpaste                []     16    £60,000    44%   \n",
       "2             Didsbury Gin  [Jenny Campbell]     16    £75,000    33%   \n",
       "3  Van De Sant Innovations  [Deborah Meaden]     16    £70,000    15%   \n",
       "4                    OHMME     [Peter Jones]     16    £80,000    20%   \n",
       "\n",
       "  went_through still_in_business  \n",
       "0           No               Yes  \n",
       "1           No               Yes  \n",
       "2          Yes               Yes  \n",
       "3           No               Yes  \n",
       "4           No               Yes  "
      ]
     },
     "execution_count": 11,
     "metadata": {},
     "output_type": "execute_result"
    }
   ],
   "source": [
    "df.head()"
   ]
  },
  {
   "cell_type": "markdown",
   "metadata": {},
   "source": [
    "investment and equity columns need to be changed to a number type"
   ]
  },
  {
   "cell_type": "code",
   "execution_count": 12,
   "metadata": {},
   "outputs": [],
   "source": [
    "for i, amount in enumerate(df['investment']):    \n",
    "    price_num = []\n",
    "    for char in amount:\n",
    "        if char.isalnum():#create a list without the '£' and ','\n",
    "            price_num.append(char)\n",
    "    price = ''.join(price_num)#rejoin the numbers in a string\n",
    "    df['investment'][i] = int(price)#change the current investment value to the integer of the amount"
   ]
  },
  {
   "cell_type": "code",
   "execution_count": 13,
   "metadata": {},
   "outputs": [],
   "source": [
    "for i, eq in enumerate(df['equity']):\n",
    "    df['equity'][i] = float(eq[:-1])"
   ]
  },
  {
   "cell_type": "code",
   "execution_count": 14,
   "metadata": {},
   "outputs": [],
   "source": [
    "#in order to easily obtain a histogram which shows the series numbers in order, the type is converted from str to int\n",
    "\n",
    "#there is an empty string value in the series list. As the rows next and before it are season 11, it'll be assumed that the '' \n",
    "#corresponds to 11\n",
    "for i, ser in enumerate(df['series']):\n",
    "    if ser =='':\n",
    "        df['series'][i]=11\n",
    "    \n",
    "    else:\n",
    "        df['series'][i]=str(ser)\n"
   ]
  },
  {
   "cell_type": "code",
   "execution_count": 15,
   "metadata": {},
   "outputs": [
    {
     "data": {
      "text/html": [
       "<div>\n",
       "<style scoped>\n",
       "    .dataframe tbody tr th:only-of-type {\n",
       "        vertical-align: middle;\n",
       "    }\n",
       "\n",
       "    .dataframe tbody tr th {\n",
       "        vertical-align: top;\n",
       "    }\n",
       "\n",
       "    .dataframe thead th {\n",
       "        text-align: right;\n",
       "    }\n",
       "</style>\n",
       "<table border=\"1\" class=\"dataframe\">\n",
       "  <thead>\n",
       "    <tr style=\"text-align: right;\">\n",
       "      <th></th>\n",
       "      <th>company_name</th>\n",
       "      <th>investors_names</th>\n",
       "      <th>series</th>\n",
       "      <th>investment</th>\n",
       "      <th>equity</th>\n",
       "      <th>went_through</th>\n",
       "      <th>still_in_business</th>\n",
       "    </tr>\n",
       "  </thead>\n",
       "  <tbody>\n",
       "    <tr>\n",
       "      <th>0</th>\n",
       "      <td>Oatein Ltd</td>\n",
       "      <td>[Peter Jones]</td>\n",
       "      <td>16</td>\n",
       "      <td>50000</td>\n",
       "      <td>25</td>\n",
       "      <td>No</td>\n",
       "      <td>Yes</td>\n",
       "    </tr>\n",
       "    <tr>\n",
       "      <th>1</th>\n",
       "      <td>Buddies Toothpaste</td>\n",
       "      <td>[]</td>\n",
       "      <td>16</td>\n",
       "      <td>60000</td>\n",
       "      <td>44</td>\n",
       "      <td>No</td>\n",
       "      <td>Yes</td>\n",
       "    </tr>\n",
       "    <tr>\n",
       "      <th>2</th>\n",
       "      <td>Didsbury Gin</td>\n",
       "      <td>[Jenny Campbell]</td>\n",
       "      <td>16</td>\n",
       "      <td>75000</td>\n",
       "      <td>33</td>\n",
       "      <td>Yes</td>\n",
       "      <td>Yes</td>\n",
       "    </tr>\n",
       "    <tr>\n",
       "      <th>3</th>\n",
       "      <td>Van De Sant Innovations</td>\n",
       "      <td>[Deborah Meaden]</td>\n",
       "      <td>16</td>\n",
       "      <td>70000</td>\n",
       "      <td>15</td>\n",
       "      <td>No</td>\n",
       "      <td>Yes</td>\n",
       "    </tr>\n",
       "    <tr>\n",
       "      <th>4</th>\n",
       "      <td>OHMME</td>\n",
       "      <td>[Peter Jones]</td>\n",
       "      <td>16</td>\n",
       "      <td>80000</td>\n",
       "      <td>20</td>\n",
       "      <td>No</td>\n",
       "      <td>Yes</td>\n",
       "    </tr>\n",
       "  </tbody>\n",
       "</table>\n",
       "</div>"
      ],
      "text/plain": [
       "              company_name   investors_names series investment equity  \\\n",
       "0               Oatein Ltd     [Peter Jones]     16      50000     25   \n",
       "1       Buddies Toothpaste                []     16      60000     44   \n",
       "2             Didsbury Gin  [Jenny Campbell]     16      75000     33   \n",
       "3  Van De Sant Innovations  [Deborah Meaden]     16      70000     15   \n",
       "4                    OHMME     [Peter Jones]     16      80000     20   \n",
       "\n",
       "  went_through still_in_business  \n",
       "0           No               Yes  \n",
       "1           No               Yes  \n",
       "2          Yes               Yes  \n",
       "3           No               Yes  \n",
       "4           No               Yes  "
      ]
     },
     "execution_count": 15,
     "metadata": {},
     "output_type": "execute_result"
    }
   ],
   "source": [
    "df.head()"
   ]
  },
  {
   "cell_type": "code",
   "execution_count": 263,
   "metadata": {},
   "outputs": [
    {
     "data": {
      "image/png": "[encoded data removed]",
      "text/plain": [
       "<Figure size 648x432 with 2 Axes>"
      ]
     },
     "metadata": {
      "needs_background": "light"
     },
     "output_type": "display_data"
    }
   ],
   "source": [
    "font = {'weight' : 'normal',\n",
    "        'size'   : 12}\n",
    "\n",
    "matplotlib.rc('font', **font)\n",
    "\n",
    "f, axes = plt.subplots(1, 2, figsize=(9, 6), sharey = True)\n",
    "\n",
    "ax1 = sns.countplot('went_through', data=df, palette = [\"#43f52c\", \"#ff0000\"], ax = axes[0], order=[\"Yes\",\"No\"])\n",
    "ax1.set(xlabel='Investment went through', ylabel='Companies Count')\n",
    "\n",
    "ax2 = sns.countplot('still_in_business', data=df, palette =[\"#43f52c\", \"#ff0000\"], ax =axes[1])\n",
    "ax2.set(xlabel='Still in Business', ylabel='')\n",
    "\n",
    "\n",
    "plt.setp(axes, yticks=[0,25,50, 75, 100, 125, 150, 175])\n",
    "plt.tight_layout()"
   ]
  },
  {
   "cell_type": "markdown",
   "metadata": {},
   "source": [
    "The majority of investments broke down following after-show negociations"
   ]
  },
  {
   "cell_type": "code",
   "execution_count": 42,
   "metadata": {},
   "outputs": [
    {
     "name": "stdout",
     "output_type": "stream",
     "text": [
      "Only 41.57 % went through\n"
     ]
    }
   ],
   "source": [
    "s = df['went_through'].value_counts('No')*100\n",
    "wentThrough = s['Yes']\n",
    "print(f'Only {wentThrough:.2f} % went through')"
   ]
  },
  {
   "cell_type": "code",
   "execution_count": 43,
   "metadata": {},
   "outputs": [
    {
     "name": "stdout",
     "output_type": "stream",
     "text": [
      "72.94 % of commpanies were still active by the end of the 2019 series\n"
     ]
    }
   ],
   "source": [
    "b = df['still_in_business'].value_counts('No')*100\n",
    "inBusiness = b['Yes']\n",
    "print(f'{inBusiness:.2f} % of commpanies were still active by the end of the 2019 series')"
   ]
  },
  {
   "cell_type": "code",
   "execution_count": 44,
   "metadata": {},
   "outputs": [],
   "source": [
    "def investment_histogram(dataframe_, coords):\n",
    "\n",
    "    #fig, ax  = plt.subplots()\n",
    "    ax_invest = sns.distplot(dataframe_['investment'], kde_kws = {'color': 'k'},\n",
    "                hist_kws = {'color':'green', 'alpha': 1}, ax = coords)#plot a histogram and a kernel density estimation\n",
    "    ax_invest.set_xlabel('Pounds £')\n",
    "     \n",
    "    #code below deals with ticks positions and formating\n",
    "    ax_invest.xaxis.set_ticks_position('bottom')\n",
    "    ax_invest.yaxis.set_ticks_position('left')\n",
    "    ax_invest.set_xlim(0,275000)\n",
    "\n",
    "    ax_invest.tick_params(which='major', width=1.00, length=5)\n",
    "    ax_invest.tick_params(which='minor', width=0.75, length=2.5)\n",
    "    ax_invest.xaxis.set_minor_locator(ticker.MultipleLocator(10000))\n",
    "    ax_invest.xaxis.set_major_locator(ticker.MultipleLocator(50000))  \n",
    "    \n",
    "    ax_invest.get_xaxis().set_major_formatter(\n",
    "        matplotlib.ticker.FuncFormatter(lambda x, p: format(int(x), ',')))#change x axis labels format from '10000' to '10,000'"
   ]
  },
  {
   "cell_type": "code",
   "execution_count": 45,
   "metadata": {},
   "outputs": [],
   "source": [
    "def equity_histogram(dataframe_, coords):\n",
    "\n",
    "    ax_equity = sns.distplot(dataframe_['equity'], kde_kws = {'color': 'k'},\n",
    "                hist_kws = {'color':'b', 'alpha': 1}, ax = coords)#plot a histogram and a kernel density estimation\n",
    "    ax_equity.set_xlabel('Equity')\n",
    "    \n",
    "    #code below deals with ticks positions and formating\n",
    "    ax_equity.xaxis.set_ticks_position('bottom')\n",
    "    ax_equity.yaxis.set_ticks_position('left')\n",
    "    ax_equity.set_xlim(0,85)\n",
    "    \n",
    "    ax_equity.tick_params(which='major', width=1.00, length=5)\n",
    "    ax_equity.tick_params(which='minor', width=0.75, length=2.5)\n",
    "    ax_equity.xaxis.set_minor_locator(ticker.MultipleLocator(5))\n",
    "    ax_equity.xaxis.set_major_locator(ticker.MultipleLocator(10))\n",
    "    \n",
    "    ax_equity.xaxis.set_major_formatter(ticker.PercentFormatter(xmax=100))# make x axis labels show % sign"
   ]
  },
  {
   "cell_type": "code",
   "execution_count": 46,
   "metadata": {},
   "outputs": [
    {
     "data": {
      "image/png": "[encoded data removed]",
      "text/plain": [
       "<Figure size 1008x432 with 2 Axes>"
      ]
     },
     "metadata": {
      "needs_background": "light"
     },
     "output_type": "display_data"
    }
   ],
   "source": [
    "f, axes = plt.subplots(1, 2, figsize=(14, 6))\n",
    "\n",
    "investment_histogram(df, axes[0])\n",
    "equity_histogram(df,axes[1])"
   ]
  },
  {
   "cell_type": "code",
   "execution_count": 47,
   "metadata": {},
   "outputs": [],
   "source": [
    "df_invested = df[df.went_through == 'Yes'] # create a new data frame only containing data for investments that went through"
   ]
  },
  {
   "cell_type": "code",
   "execution_count": 48,
   "metadata": {},
   "outputs": [
    {
     "data": {
      "image/png": "[encoded data removed]",
      "text/plain": [
       "<Figure size 1008x432 with 2 Axes>"
      ]
     },
     "metadata": {
      "needs_background": "light"
     },
     "output_type": "display_data"
    }
   ],
   "source": [
    "f, axes = plt.subplots(1, 2, figsize=(14, 6))\n",
    "\n",
    "\n",
    "investment_histogram(df_invested, axes[0])\n",
    "equity_histogram(df_invested, axes[1])"
   ]
  },
  {
   "cell_type": "code",
   "execution_count": 376,
   "metadata": {},
   "outputs": [],
   "source": [
    "#Printing the information of the largest investments \n",
    "def print_max(df, column):\n",
    "    maximum = max(df[column])\n",
    "    for i, amount in enumerate(df[column]):\n",
    "        if amount == maximum:\n",
    "            print(df[i:i+1])\n",
    "\n",
    "print_max(df, 'investment')\n",
    "#These print statements are hidden as they were just used to get some of the info for the description below    "
   ]
  },
  {
   "cell_type": "code",
   "execution_count": 377,
   "metadata": {},
   "outputs": [],
   "source": [
    "#Largest investments that went through\n",
    "print_max(df_invested, 'investment')"
   ]
  },
  {
   "cell_type": "code",
   "execution_count": 378,
   "metadata": {},
   "outputs": [],
   "source": [
    "print_max(df_invested, 'equity')"
   ]
  },
  {
   "cell_type": "markdown",
   "metadata": {},
   "source": [
    "The investment amount and equity % curves follow approximately the same trend for investments made on the show and the deals that stood following after-show negociations.\n",
    "\n",
    "Most investments are in the £40,000-60,000 range. £250,000 is the largest amount invested. \n",
    "There were two times when this sum was pledged, however in both situations the parties couldn't agree on a deal after the show. One investment was by Theo Paphitis in Zapper for 30% equity, while the other was made by Theo Paphitis and Deborah Meaden with DDN Ltd for 25% combined shares. Both companies were still in business by the end of 2019.\n",
    "\n",
    "The largest completed investments were for 200,000 £. The first was made by Theo Paphitis in 2007 in Gaming Alerts for 30% equity. The company was dissolved in 2011 with Paphitis still holding a 30% share in the business. \n",
    "The second was made by Deborah Meaden and Duncan Bannatyne one year later for a shared 40% equity in ProWaste Management Services. \n",
    "Duncan and Deborah retired their positions as Directors in 2011.\n",
    " \n",
    "Most common % equity sold lies in the 25-35% range. The overwhelming majority of entrepreneurs haven't sold more than 50% shares in their company. However there was one significant exception: in 2011 Duncan Bannatyne purchased 79% equity in RKA Records for 50,000 £. The investment went through and the company renamed itself Bannatyne Music Ltd with Duncan owning a 51% share in the business. It's still active at Companies House but is not running as a business."
   ]
  },
  {
   "cell_type": "code",
   "execution_count": 49,
   "metadata": {},
   "outputs": [],
   "source": [
    "#in order to plot the series in ascending order:\n",
    "seasons = list(set(df['series'].tolist()))#get a list of all seasons\n",
    "seasons = [int(season) for season in seasons]#turn to integer for sorting\n",
    "seasons.sort(reverse = False)\n",
    "seasons =[str(season) for season in seasons] #turn back to string"
   ]
  },
  {
   "cell_type": "code",
   "execution_count": 50,
   "metadata": {},
   "outputs": [
    {
     "data": {
      "image/png": "[encoded data removed]",
      "text/plain": [
       "<Figure size 720x432 with 1 Axes>"
      ]
     },
     "execution_count": 50,
     "metadata": {},
     "output_type": "execute_result"
    }
   ],
   "source": [
    "figure(figsize = (10,6))\n",
    "f = sns.countplot('series', data=df, order = seasons, hue = 'went_through')\n",
    "f.set_title('Investments on the show')\n",
    "f.set_xlabel('Series')\n",
    "f.set_ylabel('')\n",
    "f.legend_.set_title('Went Through')\n",
    "plt.close()\n",
    "f.figure"
   ]
  },
  {
   "cell_type": "code",
   "execution_count": 360,
   "metadata": {},
   "outputs": [],
   "source": [
    "df_15 = df[df.series == '15']\n",
    "df_16 = df[df.series == '16']\n",
    "df_last_two = df_15.append(df_16)"
   ]
  },
  {
   "cell_type": "code",
   "execution_count": 332,
   "metadata": {},
   "outputs": [],
   "source": [
    "itwt = df_last_two['went_through'].tolist().count('Yes')# 11\n",
    "tot = len(df_last_two)#48"
   ]
  },
  {
   "cell_type": "code",
   "execution_count": 361,
   "metadata": {},
   "outputs": [],
   "source": [
    "df_6 = df[df.series == '6']"
   ]
  },
  {
   "cell_type": "code",
   "execution_count": 366,
   "metadata": {},
   "outputs": [],
   "source": [
    "itwt_6 = df_6['went_through'].tolist().count('Yes') #11\n",
    "tot_6 = len(df_6) #14"
   ]
  },
  {
   "cell_type": "markdown",
   "metadata": {},
   "source": [
    "The general trend has been more and more investments per series, which can mostly be explained by the increase in number of episodes per series.\n",
    "\n",
    "As expected, during the majority of series, most investments didn't go through. In series 15 and 16 especially, only 23% of investments were completed. The exceptions are series 4, 5, 6, 13 and 14. During the 6th series, 79% of investments went through. "
   ]
  },
  {
   "cell_type": "code",
   "execution_count": 79,
   "metadata": {},
   "outputs": [],
   "source": [
    "def get_names(df):\n",
    "    names_list = df['investors_names'].tolist()#currently a list of lists of investors for each company\n",
    "\n",
    "    #just a list of investors, which appear each time they were invested:\n",
    "    flat_list = [investor for company in names_list for investor in company]\n",
    "\n",
    "    #changing the names to appear shorter:\n",
    "    shortened_names = []\n",
    "    for n in flat_list:\n",
    "        names = n.split(' ')\n",
    "        names[0] = names[0][0]\n",
    "        fin = '. '.join(names)\n",
    "        shortened_names.append(fin)\n",
    "    \n",
    "    return shortened_names\n",
    "shortened_names = get_names(df)"
   ]
  },
  {
   "cell_type": "code",
   "execution_count": 160,
   "metadata": {},
   "outputs": [],
   "source": [
    "times_dict = {} # creating a dictionary with the investors and how many times they pledged an investment\n",
    "for name in set(shortened_names):\n",
    "    times_invested = shortened_names.count(name)\n",
    "    d = {name: times_invested}\n",
    "    times_dict.update(d)\n",
    "    \n",
    "    \n",
    "ordered_names = sorted(times_dict.items(), key = \n",
    "             lambda kv:(kv[1], kv[0]), reverse = True)#sorting by number of pledges \n",
    "\n",
    "\n",
    "final_ordered_names = [] #get a list with names without the counts\n",
    "for name in ordered_names:\n",
    "    final_ordered_names.append(name[0])"
   ]
  },
  {
   "cell_type": "code",
   "execution_count": 232,
   "metadata": {},
   "outputs": [
    {
     "data": {
      "image/png": "[encoded data removed]",
      "text/plain": [
       "<Figure size 1872x720 with 1 Axes>"
      ]
     },
     "metadata": {
      "needs_background": "light"
     },
     "output_type": "display_data"
    }
   ],
   "source": [
    "def investors_plot(names, title):\n",
    "\n",
    "    plt.figure(figsize=(26,10))\n",
    "    sns.countplot(names, order = final_ordered_names) #order by times pledged\n",
    "    plt.title(title, fontsize = '22')\n",
    "    plt.ylabel('')\n",
    "    plt.yticks(fontsize = '14')\n",
    "    plt.xticks(fontsize = '12')\n",
    "    plt.show()\n",
    "    \n",
    "\n",
    "investors_plot(shortened_names, 'Investments pledged on show')"
   ]
  },
  {
   "cell_type": "code",
   "execution_count": 81,
   "metadata": {},
   "outputs": [],
   "source": [
    "shortened_names_invested = get_names(df_invested)"
   ]
  },
  {
   "cell_type": "code",
   "execution_count": 178,
   "metadata": {
    "scrolled": false
   },
   "outputs": [
    {
     "data": {
      "image/png": "[encoded data removed]",
      "text/plain": [
       "<Figure size 1872x720 with 1 Axes>"
      ]
     },
     "metadata": {
      "needs_background": "light"
     },
     "output_type": "display_data"
    }
   ],
   "source": [
    "investors_plot(shortened_names_invested, 'Investments went through')"
   ]
  },
  {
   "cell_type": "markdown",
   "metadata": {},
   "source": [
    "Peter Jones has has been the most prolific investor, having pledged 87 investments on the show. \n",
    "He also has the most investments that actually went through: 35; four more than Deborah Meaden.\n",
    "\n",
    "This is to be expected as he is the only one who was part in all the 16 series.\n",
    "\n",
    "Simon Woodroffe is the only dragon who hasn't had at least one investment go through."
   ]
  },
  {
   "cell_type": "code",
   "execution_count": 111,
   "metadata": {},
   "outputs": [
    {
     "name": "stdout",
     "output_type": "stream",
     "text": [
      "In total, £20576200 (£20.6 million) had been pledged by dragons at the end of the 16th series.\n"
     ]
    }
   ],
   "source": [
    "total_sum_invested = sum(df['investment'])\n",
    "print(f'In total, £{total_sum_invested} (£20.6 million) had been pledged by dragons at the end of the 16th series.')"
   ]
  },
  {
   "cell_type": "code",
   "execution_count": 91,
   "metadata": {},
   "outputs": [],
   "source": [
    "sum_actually_invested = sum(df_invested['investment'])"
   ]
  },
  {
   "cell_type": "code",
   "execution_count": 94,
   "metadata": {},
   "outputs": [],
   "source": [
    "invested_percent = sum_actually_invested/total_sum_invested*100"
   ]
  },
  {
   "cell_type": "code",
   "execution_count": 101,
   "metadata": {},
   "outputs": [
    {
     "name": "stdout",
     "output_type": "stream",
     "text": [
      "Out of that, only £8208000 (£8.2 million) ended up being invested, amounting to 39.89%\n"
     ]
    }
   ],
   "source": [
    "print (f'Out of that, only £{sum_actually_invested} (£8.2 million) ended up being invested, amounting to {invested_percent:.2f}%')"
   ]
  },
  {
   "cell_type": "code",
   "execution_count": 185,
   "metadata": {},
   "outputs": [
    {
     "name": "stdout",
     "output_type": "stream",
     "text": [
      "This is a ~5% decrease from the tigermobiles findings, 44.62% of the money invested had went through by the end of the 11th    series\n"
     ]
    }
   ],
   "source": [
    "prev_report_percent = 5.8/13*100\n",
    "print (f'This is a ~5% decrease from the tigermobiles findings, {prev_report_percent:.2f}% of the money invested had went through by the end of the 11th    series')"
   ]
  },
  {
   "cell_type": "code",
   "execution_count": 187,
   "metadata": {},
   "outputs": [],
   "source": [
    "times_dict_invested = {} # creating a dictionary with the investors and how many times they invested\n",
    "for name in set(shortened_names):\n",
    "    times_invested= shortened_names_invested.count(name)\n",
    "    d = {name: times_invested}\n",
    "    times_dict_invested.update(d)"
   ]
  },
  {
   "cell_type": "code",
   "execution_count": 259,
   "metadata": {},
   "outputs": [],
   "source": [
    "# as the dictionaries have the same key order, the following code gets the %of times each investor went through with their\n",
    "#offer \n",
    "percentages_dict = {}\n",
    "for i in range(len(times_dict)):\n",
    "    name = list(list(times_dict.items())[i])[0]# this gets a key from the dictionary by index \n",
    "    original_investments = list(list(times_dict.items())[i])[1] #gets the value\n",
    "    actual_investments = list(list(times_dict_invested.items())[i])[1]\n",
    "    percentage = actual_investments/original_investments*100\n",
    "    d = {name:percentage}\n",
    "    percentages_dict.update(d)"
   ]
  },
  {
   "cell_type": "code",
   "execution_count": 270,
   "metadata": {},
   "outputs": [],
   "source": [
    "values = []\n",
    "keyz=[]\n",
    "for k,v in percentages_dict.items():# separate names and percentages\n",
    "    values.append(v)\n",
    "    keyz.append(k)"
   ]
  },
  {
   "cell_type": "code",
   "execution_count": 281,
   "metadata": {
    "scrolled": false
   },
   "outputs": [
    {
     "data": {
      "image/png": "[encoded data removed]",
      "text/plain": [
       "<Figure size 1872x720 with 1 Axes>"
      ]
     },
     "metadata": {
      "needs_background": "light"
     },
     "output_type": "display_data"
    }
   ],
   "source": [
    "plt.figure(figsize=(26,10))\n",
    "sns.barplot(keyz, values, order =final_ordered_names )\n",
    "plt.title('Ratio of deals going through after the show', fontsize = '22')\n",
    "plt.ylabel('Percentage %', fontsize = '18')\n",
    "plt.yticks(fontsize = '14')\n",
    "plt.xticks(fontsize = '12')\n",
    "plt.show()"
   ]
  },
  {
   "cell_type": "markdown",
   "metadata": {},
   "source": [
    "Tej Lalvani has been on the show since the 15th series. He has the lowest ratio of investments to pledged investments, 15%. Out of 13 initially agreed fundings, only 2 were followed through with, explaining the drastic decrease in the ratio for the past two seasons."
   ]
  }
 ],
 "metadata": {
  "kernelspec": {
   "display_name": "Python 3",
   "language": "python",
   "name": "python3"
  },
  "language_info": {
   "codemirror_mode": {
    "name": "ipython",
    "version": 3
   },
   "file_extension": ".py",
   "mimetype": "text/x-python",
   "name": "python",
   "nbconvert_exporter": "python",
   "pygments_lexer": "ipython3",
   "version": "3.8.2"
  }
 },
 "nbformat": 4,
 "nbformat_minor": 4
}
