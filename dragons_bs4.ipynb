{
 "cells": [
  {
   "cell_type": "markdown",
   "metadata": {},
   "source": [
    "In this project I will be looking at data relating to one of my favourite british shows, Dragon's Den,                           scraped from https://www.tigermobiles.com/dragons-den/\n",
    "\n",
    "I answer the following questions:\n",
    "<ul>\n",
    "    <li> How many companies are still in business ?</li>\n",
    "    <li> How many investemnts went through ?</li>\n",
    "    <li> Who are the most active investers ?</li>\n",
    "    <li> What is the average amount of money invested ? How about the average % of equity shared ? </li>\n",
    "    </ul>\n",
    "\n",
    "Further investigation could look into:\n",
    "<ul>\n",
    "    <li> How well have the companies done after appearing on the show ?</li>\n",
    "    <li> What field is most common appearing on the show/ most likely to earn an investment ?</li>\n"
   ]
  },
  {
   "cell_type": "code",
   "execution_count": 1,
   "metadata": {},
   "outputs": [],
   "source": [
    "import bs4\n",
    "from urllib.request import urlopen as uReq\n",
    "from bs4 import BeautifulSoup as soup\n",
    "import pandas as pd\n",
    "import re\n",
    "from pandas import Series, DataFrame\n",
    "import matplotlib\n",
    "import matplotlib.pyplot as plt\n",
    "import matplotlib.ticker as ticker\n",
    "from matplotlib.pyplot import figure\n",
    "import seaborn as sns\n",
    "%matplotlib inline\n"
   ]
  },
  {
   "cell_type": "code",
   "execution_count": 2,
   "metadata": {},
   "outputs": [],
   "source": [
    "url = 'https://www.tigermobiles.com/dragons-den/'"
   ]
  },
  {
   "cell_type": "code",
   "execution_count": 3,
   "metadata": {},
   "outputs": [],
   "source": [
    "uClient = uReq(url) #openning up a connection, grabbing the page"
   ]
  },
  {
   "cell_type": "code",
   "execution_count": 4,
   "metadata": {},
   "outputs": [],
   "source": [
    "page_html = uClient.read() #offloads the content into a variable\n",
    "uClient.close() #close the file"
   ]
  },
  {
   "cell_type": "code",
   "execution_count": 5,
   "metadata": {},
   "outputs": [],
   "source": [
    "page_soup = soup(page_html, 'lxml') # #the text needs to be parsed (as we have the raw html at the moment)"
   ]
  },
  {
   "cell_type": "code",
   "execution_count": 6,
   "metadata": {},
   "outputs": [],
   "source": [
    "columns = page_soup.find('div', {'class': 'cols all-items'})#the part of the webpage containing a column of all companies"
   ]
  },
  {
   "cell_type": "code",
   "execution_count": 7,
   "metadata": {},
   "outputs": [],
   "source": [
    "companies_info = columns.find_all('div',{'class':'dd-item-desc'})#a list of info for all individual companies"
   ]
  },
  {
   "cell_type": "code",
   "execution_count": 8,
   "metadata": {},
   "outputs": [],
   "source": [
    "#Required data is:\n",
    "#company name: h2\n",
    "#investor name : div class 'dd-profile'\n",
    "#series\n",
    "#ivestment amount\n",
    "#equity bought\n",
    "#did the investment go through ?\n",
    "#is the company still in bussiness ?\n",
    "\n",
    "#In the future, could get the other data such as incorporation date as well"
   ]
  },
  {
   "cell_type": "code",
   "execution_count": 9,
   "metadata": {},
   "outputs": [],
   "source": [
    "company_names = []\n",
    "investors_list = []\n",
    "show_series = []\n",
    "investment_amount = []\n",
    "equity_shared = []\n",
    "investment_went_trhough = []\n",
    "company_still_in_business = []\n",
    "\n",
    "\n",
    "for company in companies_info:\n",
    "    \n",
    "    company_name = company.find('h2').text\n",
    "    company_names.append(company_name)\n",
    "    \n",
    "    \n",
    "    investors = company.find_all('div',{'class': 'dd-profile'})# there can be more than one investor\n",
    "    # the name is in the form of 'FistLast', so to make it look better it's changed to 'First Last'\n",
    "    investors_names =[]\n",
    "    for investor in investors:\n",
    "        investor = investor.text\n",
    "        first_and_last = re.sub( r\"([A-Z])\", r\" \\1\", investor).split()#split on capital letter\n",
    "        investor_name = ' '.join(first_and_last)#join the names back into a string with a space between them\n",
    "        investors_names.append(investor_name)\n",
    "    investors_list.append(investors_names)\n",
    "    \n",
    "    \n",
    "    # the last three h4 elements are the show's Series number, the investment amount and the equity% purchased\n",
    "    details = company.find_all('span')[1:]#the first one is the names of the people appearing on the show\n",
    "    series = details[0].text\n",
    "    show_series.append(series)\n",
    "    investment = details[1].text\n",
    "    investment_amount.append(investment)\n",
    "    equity = details[2].text\n",
    "    equity_shared.append(equity)\n",
    "    \n",
    "    \n",
    "    # the first two 'one-half' class divs are info on what happened after the show\n",
    "    follow_up = company.find_all('div', {'class':'one-half'})[:2]\n",
    "\n",
    "    #the answer to the question is in the form of an image with a specific div.\n",
    "    icon_yes_0 = follow_up[0].find('div',{'class':'icon-yes'})# if the icon is no, the outpout is None\n",
    "\n",
    "    if icon_yes_0:\n",
    "        went_through ='Yes'\n",
    "    else:\n",
    "        went_through = 'No' \n",
    "    investment_went_trhough.append(went_through)\n",
    "\n",
    "    icon_yes_1 = follow_up[1].find('div',{'class':'icon-yes'})\n",
    "\n",
    "    if icon_yes_1:\n",
    "        still_in_business ='Yes'\n",
    "    else:\n",
    "        still_in_business = 'No' \n",
    "    company_still_in_business.append(still_in_business)"
   ]
  },
  {
   "cell_type": "code",
   "execution_count": 158,
   "metadata": {},
   "outputs": [],
   "source": [
    "df = DataFrame(list(zip(company_names,investors_list, show_series, investment_amount, \n",
    "                        equity_shared, investment_went_trhough, company_still_in_business)),\n",
    "              columns =['company_name', 'investors_names', 'series','investment','equity','went_through','still_in_business'])"
   ]
  },
  {
   "cell_type": "code",
   "execution_count": 159,
   "metadata": {},
   "outputs": [
    {
     "data": {
      "text/html": [
       "<div>\n",
       "<style scoped>\n",
       "    .dataframe tbody tr th:only-of-type {\n",
       "        vertical-align: middle;\n",
       "    }\n",
       "\n",
       "    .dataframe tbody tr th {\n",
       "        vertical-align: top;\n",
       "    }\n",
       "\n",
       "    .dataframe thead th {\n",
       "        text-align: right;\n",
       "    }\n",
       "</style>\n",
       "<table border=\"1\" class=\"dataframe\">\n",
       "  <thead>\n",
       "    <tr style=\"text-align: right;\">\n",
       "      <th></th>\n",
       "      <th>company_name</th>\n",
       "      <th>investors_names</th>\n",
       "      <th>series</th>\n",
       "      <th>investment</th>\n",
       "      <th>equity</th>\n",
       "      <th>went_through</th>\n",
       "      <th>still_in_business</th>\n",
       "    </tr>\n",
       "  </thead>\n",
       "  <tbody>\n",
       "    <tr>\n",
       "      <th>0</th>\n",
       "      <td>Oatein Ltd</td>\n",
       "      <td>[Peter Jones]</td>\n",
       "      <td>16</td>\n",
       "      <td>£50,000</td>\n",
       "      <td>25%</td>\n",
       "      <td>No</td>\n",
       "      <td>Yes</td>\n",
       "    </tr>\n",
       "    <tr>\n",
       "      <th>1</th>\n",
       "      <td>Buddies Toothpaste</td>\n",
       "      <td>[]</td>\n",
       "      <td>16</td>\n",
       "      <td>£60,000</td>\n",
       "      <td>44%</td>\n",
       "      <td>No</td>\n",
       "      <td>Yes</td>\n",
       "    </tr>\n",
       "    <tr>\n",
       "      <th>2</th>\n",
       "      <td>Didsbury Gin</td>\n",
       "      <td>[Jenny Campbell]</td>\n",
       "      <td>16</td>\n",
       "      <td>£75,000</td>\n",
       "      <td>33%</td>\n",
       "      <td>Yes</td>\n",
       "      <td>Yes</td>\n",
       "    </tr>\n",
       "    <tr>\n",
       "      <th>3</th>\n",
       "      <td>Van De Sant Innovations</td>\n",
       "      <td>[Deborah Meaden]</td>\n",
       "      <td>16</td>\n",
       "      <td>£70,000</td>\n",
       "      <td>15%</td>\n",
       "      <td>No</td>\n",
       "      <td>Yes</td>\n",
       "    </tr>\n",
       "    <tr>\n",
       "      <th>4</th>\n",
       "      <td>OHMME</td>\n",
       "      <td>[Peter Jones]</td>\n",
       "      <td>16</td>\n",
       "      <td>£80,000</td>\n",
       "      <td>20%</td>\n",
       "      <td>No</td>\n",
       "      <td>Yes</td>\n",
       "    </tr>\n",
       "  </tbody>\n",
       "</table>\n",
       "</div>"
      ],
      "text/plain": [
       "              company_name   investors_names series investment equity  \\\n",
       "0               Oatein Ltd     [Peter Jones]     16    £50,000    25%   \n",
       "1       Buddies Toothpaste                []     16    £60,000    44%   \n",
       "2             Didsbury Gin  [Jenny Campbell]     16    £75,000    33%   \n",
       "3  Van De Sant Innovations  [Deborah Meaden]     16    £70,000    15%   \n",
       "4                    OHMME     [Peter Jones]     16    £80,000    20%   \n",
       "\n",
       "  went_through still_in_business  \n",
       "0           No               Yes  \n",
       "1           No               Yes  \n",
       "2          Yes               Yes  \n",
       "3           No               Yes  \n",
       "4           No               Yes  "
      ]
     },
     "execution_count": 159,
     "metadata": {},
     "output_type": "execute_result"
    }
   ],
   "source": [
    "df.head()"
   ]
  },
  {
   "cell_type": "markdown",
   "metadata": {},
   "source": [
    "investment and equity columns need to be changed to a number type"
   ]
  },
  {
   "cell_type": "code",
   "execution_count": 12,
   "metadata": {},
   "outputs": [],
   "source": [
    "for i, amount in enumerate(df['investment']):    \n",
    "    price_num = []\n",
    "    for char in amount:\n",
    "        if char.isalnum():#create a list without the '£' and ','\n",
    "            price_num.append(char)\n",
    "    price = ''.join(price_num)#rejoin the numbers in a string\n",
    "    df['investment'][i] = int(price)#change the current investment value to the integer of the amount"
   ]
  },
  {
   "cell_type": "code",
   "execution_count": 13,
   "metadata": {},
   "outputs": [],
   "source": [
    "for i, eq in enumerate(df['equity']):\n",
    "    df['equity'][i] = float(eq[:-1])"
   ]
  },
  {
   "cell_type": "code",
   "execution_count": 14,
   "metadata": {},
   "outputs": [],
   "source": [
    "#in order to easily obtain a histogram which shows the series numbers in order, the type is converted from str to int\n",
    "\n",
    "#there is an empty string value in the series list. As the rows next and before it are season 11, it'll be assumed that the '' \n",
    "#corresponds to 11\n",
    "for i, ser in enumerate(df['series']):\n",
    "    if ser =='':\n",
    "        df['series'][i]=11\n",
    "    \n",
    "    else:\n",
    "        df['series'][i]=str(ser)\n"
   ]
  },
  {
   "cell_type": "code",
   "execution_count": 15,
   "metadata": {},
   "outputs": [
    {
     "data": {
      "text/html": [
       "<div>\n",
       "<style scoped>\n",
       "    .dataframe tbody tr th:only-of-type {\n",
       "        vertical-align: middle;\n",
       "    }\n",
       "\n",
       "    .dataframe tbody tr th {\n",
       "        vertical-align: top;\n",
       "    }\n",
       "\n",
       "    .dataframe thead th {\n",
       "        text-align: right;\n",
       "    }\n",
       "</style>\n",
       "<table border=\"1\" class=\"dataframe\">\n",
       "  <thead>\n",
       "    <tr style=\"text-align: right;\">\n",
       "      <th></th>\n",
       "      <th>company_name</th>\n",
       "      <th>investors_names</th>\n",
       "      <th>series</th>\n",
       "      <th>investment</th>\n",
       "      <th>equity</th>\n",
       "      <th>went_through</th>\n",
       "      <th>still_in_business</th>\n",
       "    </tr>\n",
       "  </thead>\n",
       "  <tbody>\n",
       "    <tr>\n",
       "      <th>0</th>\n",
       "      <td>Oatein Ltd</td>\n",
       "      <td>[Peter Jones]</td>\n",
       "      <td>16</td>\n",
       "      <td>50000</td>\n",
       "      <td>25</td>\n",
       "      <td>No</td>\n",
       "      <td>Yes</td>\n",
       "    </tr>\n",
       "    <tr>\n",
       "      <th>1</th>\n",
       "      <td>Buddies Toothpaste</td>\n",
       "      <td>[]</td>\n",
       "      <td>16</td>\n",
       "      <td>60000</td>\n",
       "      <td>44</td>\n",
       "      <td>No</td>\n",
       "      <td>Yes</td>\n",
       "    </tr>\n",
       "    <tr>\n",
       "      <th>2</th>\n",
       "      <td>Didsbury Gin</td>\n",
       "      <td>[Jenny Campbell]</td>\n",
       "      <td>16</td>\n",
       "      <td>75000</td>\n",
       "      <td>33</td>\n",
       "      <td>Yes</td>\n",
       "      <td>Yes</td>\n",
       "    </tr>\n",
       "    <tr>\n",
       "      <th>3</th>\n",
       "      <td>Van De Sant Innovations</td>\n",
       "      <td>[Deborah Meaden]</td>\n",
       "      <td>16</td>\n",
       "      <td>70000</td>\n",
       "      <td>15</td>\n",
       "      <td>No</td>\n",
       "      <td>Yes</td>\n",
       "    </tr>\n",
       "    <tr>\n",
       "      <th>4</th>\n",
       "      <td>OHMME</td>\n",
       "      <td>[Peter Jones]</td>\n",
       "      <td>16</td>\n",
       "      <td>80000</td>\n",
       "      <td>20</td>\n",
       "      <td>No</td>\n",
       "      <td>Yes</td>\n",
       "    </tr>\n",
       "  </tbody>\n",
       "</table>\n",
       "</div>"
      ],
      "text/plain": [
       "              company_name   investors_names series investment equity  \\\n",
       "0               Oatein Ltd     [Peter Jones]     16      50000     25   \n",
       "1       Buddies Toothpaste                []     16      60000     44   \n",
       "2             Didsbury Gin  [Jenny Campbell]     16      75000     33   \n",
       "3  Van De Sant Innovations  [Deborah Meaden]     16      70000     15   \n",
       "4                    OHMME     [Peter Jones]     16      80000     20   \n",
       "\n",
       "  went_through still_in_business  \n",
       "0           No               Yes  \n",
       "1           No               Yes  \n",
       "2          Yes               Yes  \n",
       "3           No               Yes  \n",
       "4           No               Yes  "
      ]
     },
     "execution_count": 15,
     "metadata": {},
     "output_type": "execute_result"
    }
   ],
   "source": [
    "df.head()"
   ]
  },
  {
   "cell_type": "code",
   "execution_count": 16,
   "metadata": {},
   "outputs": [
    {
     "name": "stderr",
     "output_type": "stream",
     "text": [
      "findfont: Font family ['normal'] not found. Falling back to DejaVu Sans.\n"
     ]
    },
    {
     "data": {
      "image/png": "[encoded data removed]",
      "text/plain": [
       "<Figure size 648x432 with 2 Axes>"
      ]
     },
     "metadata": {
      "needs_background": "light"
     },
     "output_type": "display_data"
    }
   ],
   "source": [
    "font = {'family' : 'normal',\n",
    "        'weight' : 'normal',\n",
    "        'size'   : 12}\n",
    "\n",
    "matplotlib.rc('font', **font)\n",
    "\n",
    "f, axes = plt.subplots(1, 2, figsize=(9, 6), sharey = True)\n",
    "\n",
    "ax1 = sns.countplot('went_through', data=df, palette = [\"#43f52c\", \"#ff0000\"], ax = axes[0], order=[\"Yes\",\"No\"])\n",
    "ax1.set(xlabel='Investment went through', ylabel='Companies Count')\n",
    "\n",
    "ax2 = sns.countplot('still_in_business', data=df, palette =[\"#43f52c\", \"#ff0000\"], ax =axes[1])\n",
    "ax2.set(xlabel='Still in Business', ylabel='')\n",
    "\n",
    "\n",
    "plt.setp(axes, yticks=[0,25,50, 75, 100, 125, 150, 175])\n",
    "plt.tight_layout()"
   ]
  },
  {
   "cell_type": "code",
   "execution_count": 71,
   "metadata": {},
   "outputs": [],
   "source": [
    "def investment_histogram(dataframe_, coords):\n",
    "\n",
    "    #fig, ax  = plt.subplots()\n",
    "    ax_invest = sns.distplot(dataframe_['investment'], kde_kws = {'color': 'k'},\n",
    "                hist_kws = {'color':'green', 'alpha': 1}, ax = coords)#plot a histogram and a kernel density estimation\n",
    "    ax_invest.set_xlabel('Dollars')\n",
    "     \n",
    "    #code below deals with ticks positions and formating\n",
    "    ax_invest.xaxis.set_ticks_position('bottom')\n",
    "    ax_invest.yaxis.set_ticks_position('left')\n",
    "    ax_invest.set_xlim(0,275000)\n",
    "\n",
    "    ax_invest.tick_params(which='major', width=1.00, length=5)\n",
    "    ax_invest.tick_params(which='minor', width=0.75, length=2.5)\n",
    "    ax_invest.xaxis.set_minor_locator(ticker.MultipleLocator(10000))\n",
    "    ax_invest.xaxis.set_major_locator(ticker.MultipleLocator(50000))  \n",
    "    \n",
    "    ax_invest.get_xaxis().set_major_formatter(\n",
    "        matplotlib.ticker.FuncFormatter(lambda x, p: format(int(x), ',')))#change x axis labels format from '10000' to '10,000'"
   ]
  },
  {
   "cell_type": "code",
   "execution_count": 72,
   "metadata": {},
   "outputs": [],
   "source": [
    "def equity_histogram(dataframe_, coords):\n",
    "\n",
    "    ax_equity = sns.distplot(dataframe_['equity'], kde_kws = {'color': 'k'},\n",
    "                hist_kws = {'color':'b', 'alpha': 1}, ax = coords)#plot a histogram and a kernel density estimation\n",
    "    ax_equity.set_xlabel('Equity')\n",
    "    \n",
    "    #code below deals with ticks positions and formating\n",
    "    ax_equity.xaxis.set_ticks_position('bottom')\n",
    "    ax_equity.yaxis.set_ticks_position('left')\n",
    "    ax_equity.set_xlim(0,85)\n",
    "    \n",
    "    ax_equity.tick_params(which='major', width=1.00, length=5)\n",
    "    ax_equity.tick_params(which='minor', width=0.75, length=2.5)\n",
    "    ax_equity.xaxis.set_minor_locator(ticker.MultipleLocator(5))\n",
    "    ax_equity.xaxis.set_major_locator(ticker.MultipleLocator(10))\n",
    "    \n",
    "    ax_equity.xaxis.set_major_formatter(ticker.PercentFormatter(xmax=100))# make x axis labels show % sign"
   ]
  },
  {
   "cell_type": "code",
   "execution_count": 73,
   "metadata": {},
   "outputs": [
    {
     "data": {
      "image/png": "[encoded data removed]",
      "text/plain": [
       "<Figure size 1008x432 with 2 Axes>"
      ]
     },
     "metadata": {
      "needs_background": "light"
     },
     "output_type": "display_data"
    }
   ],
   "source": [
    "f, axes = plt.subplots(1, 2, figsize=(14, 6))\n",
    "\n",
    "investment_histogram(df, axes[0])\n",
    "equity_histogram(df,axes[1])"
   ]
  },
  {
   "cell_type": "code",
   "execution_count": 74,
   "metadata": {},
   "outputs": [],
   "source": [
    "df_invested = df[df.went_through == 'Yes'] # create a new data frame only containing data for investments that went through"
   ]
  },
  {
   "cell_type": "code",
   "execution_count": 75,
   "metadata": {},
   "outputs": [
    {
     "data": {
      "image/png": "[encoded data removed]",
      "text/plain": [
       "<Figure size 1008x432 with 2 Axes>"
      ]
     },
     "metadata": {
      "needs_background": "light"
     },
     "output_type": "display_data"
    }
   ],
   "source": [
    "f, axes = plt.subplots(1, 2, figsize=(14, 6))\n",
    "\n",
    "\n",
    "investment_histogram(df_invested, axes[0])\n",
    "equity_histogram(df_invested, axes[1])"
   ]
  },
  {
   "cell_type": "code",
   "execution_count": 41,
   "metadata": {},
   "outputs": [],
   "source": [
    "#in order to plot the series in ascending order:\n",
    "seasons = list(set(df['series'].tolist()))#get a list of all seasons\n",
    "seasons = [int(season) for season in seasons]#turn to integer for sorting\n",
    "seasons.sort(reverse = False)\n",
    "seasons =[str(season) for season in seasons] #turn back to string"
   ]
  },
  {
   "cell_type": "code",
   "execution_count": 82,
   "metadata": {},
   "outputs": [
    {
     "data": {
      "image/png": "[encoded data removed]",
      "text/plain": [
       "<Figure size 720x432 with 1 Axes>"
      ]
     },
     "execution_count": 82,
     "metadata": {},
     "output_type": "execute_result"
    }
   ],
   "source": [
    "figure(figsize = (10,6))\n",
    "f = sns.countplot('series', data=df, order = seasons, hue = 'went_through')\n",
    "f.set_title('Investments on the show')\n",
    "f.set_xlabel('Series')\n",
    "f.set_ylabel('')\n",
    "f.legend_.set_title('Went Through')\n",
    "plt.close()\n",
    "f.figure\n"
   ]
  },
  {
   "cell_type": "code",
   "execution_count": 84,
   "metadata": {},
   "outputs": [],
   "source": [
    "names_list = df['investors_names'].tolist()#currently a list of lists of investors for each company\n",
    "\n",
    "#just a list of investors, which appear each time they were invested:\n",
    "flat_list = [investor for company in names_list for investor in company]"
   ]
  },
  {
   "cell_type": "code",
   "execution_count": 146,
   "metadata": {},
   "outputs": [],
   "source": [
    "#changing the names to appear shorter:\n",
    "shortened_names = []\n",
    "for n in flat_list:\n",
    "    names = n.split(' ')\n",
    "    names[0] = names[0][0]\n",
    "    fin = '. '.join(names)\n",
    "    shortened_names.append(fin)\n",
    "    "
   ]
  },
  {
   "cell_type": "code",
   "execution_count": 166,
   "metadata": {},
   "outputs": [
    {
     "data": {
      "image/png": "[encoded data removed]",
      "text/plain": [
       "<Figure size 1944x720 with 1 Axes>"
      ]
     },
     "metadata": {
      "needs_background": "light"
     },
     "output_type": "display_data"
    }
   ],
   "source": [
    "plt.figure(figsize=(27,10))\n",
    "sns.countplot(shortened_names)\n",
    "plt.show()"
   ]
  },
  {
   "cell_type": "markdown",
   "metadata": {},
   "source": [
    "These are plots containing only the investments that went through. While there may be one or two exceptions where the exact equity agreed upon originally was slightly modified in the after-show negociations, for the most part it stayed the same."
   ]
  },
  {
   "cell_type": "markdown",
   "metadata": {},
   "source": [
    "There seems to be a decrease in the trend of % deals that go through after the show appearnce"
   ]
  },
  {
   "cell_type": "code",
   "execution_count": 152,
   "metadata": {},
   "outputs": [],
   "source": [
    "names_list_invested = df_invested['investors_names'].tolist()#currently a list of lists of investors for each company\n",
    "\n",
    "flat_list_invested = [investor for company in names_list for investor in company]#just a list of investors, which appear each time they\n",
    "#were invested"
   ]
  },
  {
   "cell_type": "code",
   "execution_count": 164,
   "metadata": {},
   "outputs": [],
   "source": [
    "shortened_names_invested = []\n",
    "for n in flat_list:\n",
    "    names = n.split(' ')\n",
    "    names[0] = names[0][0]\n",
    "    fin = '. '.join(names)\n",
    "    shortened_names_invested.append(fin)"
   ]
  },
  {
   "cell_type": "code",
   "execution_count": 167,
   "metadata": {},
   "outputs": [
    {
     "data": {
      "image/png": "[encoded data removed]",
      "text/plain": [
       "<Figure size 1944x720 with 1 Axes>"
      ]
     },
     "metadata": {
      "needs_background": "light"
     },
     "output_type": "display_data"
    }
   ],
   "source": [
    "plt.figure(figsize=(27,10))\n",
    "sns.countplot(shortened_names_invested)\n",
    "plt.show()"
   ]
  },
  {
   "cell_type": "code",
   "execution_count": null,
   "metadata": {},
   "outputs": [],
   "source": [
    "#compare to number of contestants/episodes per season\n",
    "\n",
    "#look only at investments that went through: how many deals per season or per episode for each dragon ? \n",
    "#how much money invested ?"
   ]
  },
  {
   "cell_type": "code",
   "execution_count": null,
   "metadata": {},
   "outputs": [],
   "source": []
  },
  {
   "cell_type": "code",
   "execution_count": null,
   "metadata": {},
   "outputs": [],
   "source": []
  },
  {
   "cell_type": "code",
   "execution_count": null,
   "metadata": {},
   "outputs": [],
   "source": []
  }
 ],
 "metadata": {
  "kernelspec": {
   "display_name": "Python 3",
   "language": "python",
   "name": "python3"
  },
  "language_info": {
   "codemirror_mode": {
    "name": "ipython",
    "version": 3
   },
   "file_extension": ".py",
   "mimetype": "text/x-python",
   "name": "python",
   "nbconvert_exporter": "python",
   "pygments_lexer": "ipython3",
   "version": "3.8.2"
  }
 },
 "nbformat": 4,
 "nbformat_minor": 4
}
